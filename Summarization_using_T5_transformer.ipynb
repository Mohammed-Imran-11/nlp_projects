{
 "cells": [
  {
   "cell_type": "markdown",
   "metadata": {
    "id": "bEe207ywPfE4"
   },
   "source": [
    "### Mounting the google drive"
   ]
  },
  {
   "cell_type": "code",
   "execution_count": 1,
   "metadata": {
    "colab": {
     "base_uri": "https://localhost:8080/"
    },
    "id": "8xgMrwblVA_f",
    "outputId": "a4def724-0251-4fec-e1f6-dded1d3dab96"
   },
   "outputs": [
    {
     "name": "stdout",
     "output_type": "stream",
     "text": [
      "Mounted at /content/drive\n"
     ]
    }
   ],
   "source": [
    "from google.colab import drive\n",
    "drive.mount('/content/drive')"
   ]
  },
  {
   "cell_type": "markdown",
   "metadata": {},
   "source": [
    "pip installing rouge score for model evaluation"
   ]
  },
  {
   "cell_type": "code",
   "execution_count": 2,
   "metadata": {
    "colab": {
     "base_uri": "https://localhost:8080/"
    },
    "id": "AbTViTxxdEgl",
    "outputId": "702fb907-ffe4-42b7-e364-043fb85b0aff"
   },
   "outputs": [
    {
     "name": "stdout",
     "output_type": "stream",
     "text": [
      "Requirement already satisfied: nltk in /usr/local/lib/python3.10/dist-packages (3.8.1)\n",
      "Collecting rouge-score\n",
      "  Downloading rouge_score-0.1.2.tar.gz (17 kB)\n",
      "  Preparing metadata (setup.py) ... \u001b[?25l\u001b[?25hdone\n",
      "Requirement already satisfied: click in /usr/local/lib/python3.10/dist-packages (from nltk) (8.1.7)\n",
      "Requirement already satisfied: joblib in /usr/local/lib/python3.10/dist-packages (from nltk) (1.4.2)\n",
      "Requirement already satisfied: regex>=2021.8.3 in /usr/local/lib/python3.10/dist-packages (from nltk) (2024.5.15)\n",
      "Requirement already satisfied: tqdm in /usr/local/lib/python3.10/dist-packages (from nltk) (4.66.4)\n",
      "Requirement already satisfied: absl-py in /usr/local/lib/python3.10/dist-packages (from rouge-score) (1.4.0)\n",
      "Requirement already satisfied: numpy in /usr/local/lib/python3.10/dist-packages (from rouge-score) (1.25.2)\n",
      "Requirement already satisfied: six>=1.14.0 in /usr/local/lib/python3.10/dist-packages (from rouge-score) (1.16.0)\n",
      "Building wheels for collected packages: rouge-score\n",
      "  Building wheel for rouge-score (setup.py) ... \u001b[?25l\u001b[?25hdone\n",
      "  Created wheel for rouge-score: filename=rouge_score-0.1.2-py3-none-any.whl size=24933 sha256=e606e45c7dd60602a18780623715f68f0d13c430445157b658283bf61638d769\n",
      "  Stored in directory: /root/.cache/pip/wheels/5f/dd/89/461065a73be61a532ff8599a28e9beef17985c9e9c31e541b4\n",
      "Successfully built rouge-score\n",
      "Installing collected packages: rouge-score\n",
      "Successfully installed rouge-score-0.1.2\n"
     ]
    }
   ],
   "source": [
    "pip install nltk rouge-score"
   ]
  },
  {
   "cell_type": "markdown",
   "metadata": {},
   "source": [
    "### Importing required libraries"
   ]
  },
  {
   "cell_type": "code",
   "execution_count": 25,
   "metadata": {
    "id": "jJFsBZC2Veas"
   },
   "outputs": [],
   "source": [
    "import pandas as pd\n",
    "from transformers import T5Tokenizer, TFT5ForConditionalGeneration\n",
    "import tensorflow as tf\n",
    "from nltk.translate.bleu_score import corpus_bleu\n",
    "from rouge_score import rouge_scorer"
   ]
  },
  {
   "cell_type": "code",
   "execution_count": 55,
   "metadata": {
    "id": "S_jC26ItWTQX"
   },
   "outputs": [],
   "source": [
    "# Loading datasets\n",
    "train_df = pd.read_csv('drive/MyDrive/nlp_data/test.csv')\n",
    "test_df = pd.read_csv('drive/MyDrive/nlp_data/validation.csv')"
   ]
  },
  {
   "cell_type": "code",
   "execution_count": 57,
   "metadata": {
    "colab": {
     "base_uri": "https://localhost:8080/",
     "height": 112
    },
    "id": "ieUVg77-Bwdi",
    "outputId": "d1650c3b-0a79-4a99-c7ee-d8b7026b277e"
   },
   "outputs": [
    {
     "data": {
      "application/vnd.google.colaboratory.intrinsic+json": {
       "summary": "{\n  \"name\": \"train_df\",\n  \"rows\": 11490,\n  \"fields\": [\n    {\n      \"column\": \"id\",\n      \"properties\": {\n        \"dtype\": \"string\",\n        \"num_unique_values\": 11490,\n        \"samples\": [\n          \"f00ae3c3929d829cd469ba4f229cc613b0766203\",\n          \"9e451f79499e5c784222b3f237c6ae4829849d79\",\n          \"dae58055bd50598b93a230aa3a58e0d2f519b536\"\n        ],\n        \"semantic_type\": \"\",\n        \"description\": \"\"\n      }\n    },\n    {\n      \"column\": \"article\",\n      \"properties\": {\n        \"dtype\": \"string\",\n        \"num_unique_values\": 11488,\n        \"samples\": [\n          \"A Hollywood-inspired experiment to help dementia patients by waking them up with video recordings from loved ones is taking place in New York. The hope is that the videos shown to residents of a care home in the city will ease their confusion, forgetfulness and agitation. The idea is borrowed from the 2004 Adam Sandler film 50 First Dates, in which Drew Barrymore's character suffers a brain injury and memory loss each day. A suitor, played by Sandler, uses videos to remind her of him. Charlotte Dell, director of social services at Hebrew Home in Riverdale, said the film was 'fluff', but added it inspired her to think about how the idea could help residents. The film 50 First Dates starring Adam Sandler and Drew Barrymore has inspired a new dementia experiment taking place at a care home in Riverdale, New York . 'We're looking to see if we can set a positive tone for the day,' without using drugs, she said. 'What better way to start the day than to see the face and hear the voice of someone you love wishing you a wonderful morning?' As in the film, each day a new video is shown to residents. Relatives are encouraged to take part to say good morning, use memory-triggering personal anecdotes and remind their loved ones that care home staff will be helping them get dressed and ready for the day. People suffering Alzheimer's disease and other forms of dementia often fell confused and anxious in the morning. The programme is designed to help those who are in the early to moderate stages of dementia, those who are still likely to recognise the people in the video and understand what they are saying. Ms Dell said: 'Do we know for sure that they know, this is my daughter, this is my son? No. 'But they recognise them as somebody they care about and love.' The Hebrew Home is planning to evaluate the programme next month, with the aim of expanding it to several hundred residents in its memory-care 'neighbourhoods'. Ms Dell said anecdotal evidence so far from staff at the home is 'very positive'. Robert Abrams, a geriatric psychiatrist at New York Presbyterian Hospital said the pilot is 'both innovative and thoughtful'. 'You've got a group of people with dementia who don't really grasp the nature and purpose of their surroundings or the circumstances that compelled them to be there,' he said. 'Consequently they're alone and at sea and feel frightened and even abandoned by family.' Resident Louisa Irving, 94, is one of several dementia sufferers at Hebrew Care Home, who is woken up each morning with a video recording from a loved one to help ease confusion and agitation . Her daughter Tamara Rusoff-Hoen, pictured in the striped top, records messages including stories of happy memories and family get-togethers, signing off with the family goodbye, 'Kiss, kiss, I love you' Among the residents taking part in the study is 94-year-old dementia sufferer, Louisa Irving. She wakes up each day to a video from her daughter Tamara Rusoff-Hoen, who sings: 'Good morning, merry sunshine, how did you wake so soon?' to her mother. The five-minute video includes stories of happy memories and get-togethers, and often inspires a bright smile from Ms Irving, before her daughter signs off with the family goodbye: 'Kiss, kiss, I love you.' Ms Rusoff-Hoen, said: 'Some of her agitation comes from, \\\"Who the heck are these people? Why am I here?\\\".' Although Ms Rusoff-Hoen, who lives a few hours away in Ghent, visits her mother three days a week, she said the video allows her to fill in the gaps. 'I am there with my mum, loving her and wishing her a wonderful day and helping her to feel better because there's not a lot I can do for her.' Other videos include a woman reminding her mother, in Spainish, to eat and take her medications before telling her: 'I love you, mum.' And in another, a man encourages his mother, telling her: 'You used to tell me that attitude is everything. You said that it's best to start off on the sunny side of the street.'\",\n          \"Eerie footage has emerged showing a mysterious 100 metre-wide black ring of smoke floating over clear skies in Kazakhstan - convincing locals it was caused by a UFO. The clip was filmed on Saturday in Shortandy village, 40 miles north of the capital Astana, and captures the  cloud hovering in the sky for 15 minutes before suddenly vanishing without trace. The video has been viewed more than 50,000 times since being uploaded to YouTube, prompting all manner of bizarre explanations for the\\u00a0phenomenon - with many seemingly convinced it is definitive proof of extra-terrestrial life. Spine-chilling: The creepy footage shows a mysterious 100 metre-wide black ring of smoke floating over clear skies in Kazakhstan - convincing locals it was caused by a UFO . Confused locals watched the mysterious cloud hover ominously over Shortandy for a quarter of an hour on Saturday morning before it vanished as quickly as it appeared. Once the cloud had rapidly dispersed, no trace of it was left in the sky. Speaking to local news website Today.kz, villager Oleg Menshikov said: 'It was like a black cloud. We saw it at around 4 pm on April 3. It dissipated like smoke, but it was completely odourless.' Within minutes of the video being shared online, YouTube users began to question whether the thick black hoop was an alien spacecraft, while others suggested it might just be cigarette smoke immediately in front of the camera but giving the perception it is in the sky. Others thought the cloud was likely to be a naturally occurring weather event known as a thermal microburst, which is caused by a falling mass of warm air. Mysterious: The clip was filmed on Saturday in Shortandy village, 40 miles north of the capital Astana, and captures the cloud hovering in the sky for 15 minutes before suddenly vanishing without trace . Dispersing rapidly: Confused locals watched the mysterious cloud hover ominously over Shortandy for a quarter of an hour on Saturday morning before it vanished as quickly as it appeared . Experts believe the cloud was roughly 100 metres in diameter and floated close to a mile in the air. Speaking to Russia Today, Andrey Solodovnik - associate physics professor at the Northern Kazakhstan State University - dismissed suggestions the cloud was caused by aliens. He said that based on similar clouds seen in the skies in recent years, the giant black hoop was likely to have been little more than a smoke ring generated by combustion at nearby factories. Plenty of industrial machinery is known to create ring-shaped clouds of smoke, though these are usually lighter-coloured, considerably less dense and vanish in just one or two minutes. In the latest instance it is likely the cloud was far more visible and hung around in the sky for much longer than usual for the simple reason it was cloudless day with little to no wind.\",\n          \"Arrested: Doug Hughes was put under arrest for his gyro-copter stunt and charged with\\u00a0operating an unregistered aircraft and violating national airspace . The postal carrier who flew a gyrocopter onto the lawn of the U.S. Capitol is facing two criminal charges. But he's being released from federal custody to return to Florida. Doug Hughes made his initial appearance in U.S. District Court in Washington on Thursday. That's one day after he steered his tiny aircraft onto the Capitol's West Lawn after flying through restricted airspace around the National Mall. He was charged with operating an unregistered aircraft and violating national airspace. Hughes said it was a political protest. Hughes was released on his own recognizance afterward and instructed to check in weekly with authorities in Tampa starting next week. In a soft voice, Hughes appeared to ask the judge a clarifying question about that obligation but otherwise he did not say anything significant. Homeland Security Secretary Jeh Johnson said Thursday that the copter 'apparently literally flew in under the radar,'\\u00a0as concerned lawmakers questioned how it was allowed to happen and why. Johnson said it's too soon to say whether Wednesday's incident should prompt changes in security procedures. 'I want to know all the facts before I reach an assessment of what can and should be done about gyrocopters in the future,' he said. But lawmakers said the incident exposed a gap in security, especially amid revelations that the pilot, Florida postal worker Doug Hughes, was interviewed by the Secret Service almost two years ago. The agency apparently determined he did not pose a threat, said Rep. Elijah Cummings, D-Md., the senior Democrat on the House Oversight and Government Reform Committee. Cummings spoke Thursday with the Secret Service director. 'I think that there's absolutely a gap, and it's a very dangerous gap, with regard to our airspace,' Cummings said. 'I don't want people to get a message that they can just land anywhere. Suppose there was a bomb or an explosive device on that air vehicle? That could have been a major catastrophe.' How'd it happen? Homeland Security Secretary Jeh Johnson said Thursday that the copter 'apparently literally flew in under the radar,' as concerned lawmakers questioned how it was allowed to happen and why . Approach: The small gyro-copter (circled in red) lands on the West Lawn of the Capitol in Washington as members of the public walk by. The stunt hasn't cost him his freedom, yet, but means he must check in with authorities every week as he awaits trial . Johnson said the Secret Service passed along the information from the interview with Hughes, who was to appear in court Thursday afternoon, to 'all of the appropriate law enforcement agencies.' House Minority leader Nancy Pelosi, D-Calif., called the incident 'stunning.' 'What safeguards can we use? We don't want to be a place where we're saying `This is an iron-clad Capitol.' And have such restrictions on people having access to it,' Pelosi told reporters. 'Nonetheless, we have to ensure the safety of those people.' The tiny, open-air aircraft landed without injuries to anyone, but the incident raises questions about how someone could be allowed to fly all the way from Gettysburg, Pennsylvania, right up to the Capitol. Hughes has said he was making the flight to publicize his concerns about the corrupting influence of money in politics, and deliver letters to all 535 members of Congress on the topic. 'We are a democracy. We don't have fences around our airspace, so we've got to find the right balance between living in a free and open society and security and the protection of federal buildings,' Johnson told reporters on Capitol Hill. 'And so we want to stay one step ahead of every incident like this, but then again, you don't want to overreact, either.' Still, lawmakers questioned why, if authorities had been in touch with Hughes, no action was taken to stop him. Practice run: Doug Hughes flies his gyrocopter near the Wauchula Municipal Airport in Wauchula, Florida prior to his 'insane' stunt on Wednesday . Before\\u00a0Doug Hughes made headlines by flying his open air helicopter onto the U.S. Capitol grounds, he blogged about his intention to undertake the 'non-violent demonstration.' Though, it may have been a demonstration years in the making. In a post dated September 2013 on the democracyclub.org, a writer called Tampadoug47 wrote: . Let me say first \\u2013 this is a non-violent demonstration. I have no intention of hurting anyone \\u2013 I have taken every precaution to prevent any injury to anyone, including me. There is no way I can prevent over-reaction by the authorities, but I have given them as much information and advance warning as my fuel supply allows. When I took off, I was over an hour away from the no-fly zone. The demonstration is about restoring democracy. Corruption in Washington DC has robbed the US citizens of the representative government that is our birthright. Polls show that the public is aware of the problem and VERY concerned, but they are largely uninformed that there is a solution and there are organizations prepared to make reform a reality. As a result of this flight, two things will happen. (I hope.) First, we\\u2019re going to change the narrative \\u2013 the story. Voters are going to quit being played like suckers with divisive hot-button issues and come together on a single issue. Honest government. Congress won\\u2019t start working for you or me when their big paycheck is from big business. Lobbyists, Special Interests, Unions. We have to make this happen. The political parties won\\u2019t. Congress sure won\\u2019t. Lobbyists love the status quo. The mainstream media (not the local media) is making a financial killing with mega-elections. It\\u2019s up to us. Second, in every Congressional race in 2016, I want every candidate to take a stand on corruption. After this flight, we\\u2019re going to define exactly what reform means \\u2013 set a written standard \\u2013 and it\\u2019s that standard which candidates will have to endorse. Or the candidate will have to defend to voters why he took a lesser position. The candidate who only wants to talk \\u2018reform\\u2019 but won\\u2019t endorse the real deal will be facing someone who will endorse real reform. That may be in the primary or the general election. Giving you a choice is our job. The clear choice, establishment or reform, will be in place in just a year for just over 460 congressional races. You get to choose (That\\u2019s your job as a voter.) but for the first time in decades, you will have a meaningful choice. What do I want from you? Look over your options on the previous screen or the \\u2018Honor Roll\\u2019 on the sidebar to the right. Rootstrikers or Wolf PAC or Represent.US. My favorite group isn\\u2019t listed there \\u2013 it\\u2019s my own startup group:\\u2018The Civilist Papers\\u2018. Find a group (or groups) that you are comfortable with and sign up. We\\u2019re not after money \\u2013 we want to know who you are and where you are so we can keep you informed. Protest flight: Doug Hughes took off from an undisclosed location in Washington D.C. and landed his gyro-copter on the West Front lawn of the US Capitol building . 'My concerns are the prior notice that he was going to do this and the lack of response,' said Rep. Michael McCaul, R-Texas, chairman of the House Homeland Security Committee. 'These small aircraft or UAV devices concern me because they could go undetected and cause damage, so that's something we're taking a look at,' McCaul said, adding he might hold hearings on the issue. Cummings and others also complained that they were not notified of the incident and that many first learned of it from the news media. Johnson defended existing protocols for dealing with the restricted airspace over Washington, D.C., federal buildings and monuments. 'We've got a well-coordinated federal response to dealing with issues of those who penetrate the restricted airspace without permission,' he said. He said his first reaction on hearing of the incident was to ask, 'What's a gyrocopter?' It's not unusual for a small aircraft like a gyrocopter to go undetected by conventional radar. Unlike most larger aircraft, a gyrocopter doesn't have a transponder that identifies the aircraft, its altitude and heading. Even without a transponder, radar can detect 'primary targets' - planes, flocks of birds, rain and other objects. But how well it can detect those objects depends upon several factors. The landing on the Capitol grounds 'just illustrates how hard it is to have an impermeable barrier. It's very hard to hermetically seal airspace,' said John Hansman, a Massachusetts Institute of Technology aeronautics professor. Evidence: The illegally landed craft \\u00a0was piloted by Florida mailman Doug Hughes to protest against government corruption and to promote campaign finance reform . Evidence: The illegally landed craft \\u00a0was piloted by Florida mailman Doug Hughes to protest against government corruption and to promote campaign finance reform .\"\n        ],\n        \"semantic_type\": \"\",\n        \"description\": \"\"\n      }\n    },\n    {\n      \"column\": \"highlights\",\n      \"properties\": {\n        \"dtype\": \"string\",\n        \"num_unique_values\": 11449,\n        \"samples\": [\n          \"The wildfire started in Miami-Dade County on Sunday .\\nBy Monday night, it had grown to nearly 2,000 acres .\\nThe fire was 50% contained, officials said .\",\n          \"30-stone woman's 'perfect belly' attracted men from around the world .\\nGayla Neufeld always struggled with her size, weighing 13 stone aged eight .\\nThe 52-year-old\\u00a0now embraces her belly and works as a webcam model .\\nTexan Gayla met her husband Lance, from Canada, on a fat-fetish forum .\",\n          \"Annette Edwards has owned more than 100 bunnies in the past 10 years .\\nShe claims the secret to breeding huge rabbits is both parents must be big .\\nThe former Playboy model has owned the world's largest rabbit since 2008 .\\nHer rabbit Darius is 4ft in length but he will soon be eclipsed by his son .\"\n        ],\n        \"semantic_type\": \"\",\n        \"description\": \"\"\n      }\n    }\n  ]\n}",
       "type": "dataframe",
       "variable_name": "train_df"
      },
      "text/html": [
       "\n",
       "  <div id=\"df-d33cd983-89ee-4738-b1da-828a2e0b15ba\" class=\"colab-df-container\">\n",
       "    <div>\n",
       "<style scoped>\n",
       "    .dataframe tbody tr th:only-of-type {\n",
       "        vertical-align: middle;\n",
       "    }\n",
       "\n",
       "    .dataframe tbody tr th {\n",
       "        vertical-align: top;\n",
       "    }\n",
       "\n",
       "    .dataframe thead th {\n",
       "        text-align: right;\n",
       "    }\n",
       "</style>\n",
       "<table border=\"1\" class=\"dataframe\">\n",
       "  <thead>\n",
       "    <tr style=\"text-align: right;\">\n",
       "      <th></th>\n",
       "      <th>id</th>\n",
       "      <th>article</th>\n",
       "      <th>highlights</th>\n",
       "    </tr>\n",
       "  </thead>\n",
       "  <tbody>\n",
       "    <tr>\n",
       "      <th>0</th>\n",
       "      <td>92c514c913c0bdfe25341af9fd72b29db544099b</td>\n",
       "      <td>Ever noticed how plane seats appear to be gett...</td>\n",
       "      <td>Experts question if  packed out planes are put...</td>\n",
       "    </tr>\n",
       "    <tr>\n",
       "      <th>1</th>\n",
       "      <td>2003841c7dc0e7c5b1a248f9cd536d727f27a45a</td>\n",
       "      <td>A drunk teenage boy had to be rescued by secur...</td>\n",
       "      <td>Drunk teenage boy climbed into lion enclosure ...</td>\n",
       "    </tr>\n",
       "  </tbody>\n",
       "</table>\n",
       "</div>\n",
       "    <div class=\"colab-df-buttons\">\n",
       "\n",
       "  <div class=\"colab-df-container\">\n",
       "    <button class=\"colab-df-convert\" onclick=\"convertToInteractive('df-d33cd983-89ee-4738-b1da-828a2e0b15ba')\"\n",
       "            title=\"Convert this dataframe to an interactive table.\"\n",
       "            style=\"display:none;\">\n",
       "\n",
       "  <svg xmlns=\"http://www.w3.org/2000/svg\" height=\"24px\" viewBox=\"0 -960 960 960\">\n",
       "    <path d=\"M120-120v-720h720v720H120Zm60-500h600v-160H180v160Zm220 220h160v-160H400v160Zm0 220h160v-160H400v160ZM180-400h160v-160H180v160Zm440 0h160v-160H620v160ZM180-180h160v-160H180v160Zm440 0h160v-160H620v160Z\"/>\n",
       "  </svg>\n",
       "    </button>\n",
       "\n",
       "  <style>\n",
       "    .colab-df-container {\n",
       "      display:flex;\n",
       "      gap: 12px;\n",
       "    }\n",
       "\n",
       "    .colab-df-convert {\n",
       "      background-color: #E8F0FE;\n",
       "      border: none;\n",
       "      border-radius: 50%;\n",
       "      cursor: pointer;\n",
       "      display: none;\n",
       "      fill: #1967D2;\n",
       "      height: 32px;\n",
       "      padding: 0 0 0 0;\n",
       "      width: 32px;\n",
       "    }\n",
       "\n",
       "    .colab-df-convert:hover {\n",
       "      background-color: #E2EBFA;\n",
       "      box-shadow: 0px 1px 2px rgba(60, 64, 67, 0.3), 0px 1px 3px 1px rgba(60, 64, 67, 0.15);\n",
       "      fill: #174EA6;\n",
       "    }\n",
       "\n",
       "    .colab-df-buttons div {\n",
       "      margin-bottom: 4px;\n",
       "    }\n",
       "\n",
       "    [theme=dark] .colab-df-convert {\n",
       "      background-color: #3B4455;\n",
       "      fill: #D2E3FC;\n",
       "    }\n",
       "\n",
       "    [theme=dark] .colab-df-convert:hover {\n",
       "      background-color: #434B5C;\n",
       "      box-shadow: 0px 1px 3px 1px rgba(0, 0, 0, 0.15);\n",
       "      filter: drop-shadow(0px 1px 2px rgba(0, 0, 0, 0.3));\n",
       "      fill: #FFFFFF;\n",
       "    }\n",
       "  </style>\n",
       "\n",
       "    <script>\n",
       "      const buttonEl =\n",
       "        document.querySelector('#df-d33cd983-89ee-4738-b1da-828a2e0b15ba button.colab-df-convert');\n",
       "      buttonEl.style.display =\n",
       "        google.colab.kernel.accessAllowed ? 'block' : 'none';\n",
       "\n",
       "      async function convertToInteractive(key) {\n",
       "        const element = document.querySelector('#df-d33cd983-89ee-4738-b1da-828a2e0b15ba');\n",
       "        const dataTable =\n",
       "          await google.colab.kernel.invokeFunction('convertToInteractive',\n",
       "                                                    [key], {});\n",
       "        if (!dataTable) return;\n",
       "\n",
       "        const docLinkHtml = 'Like what you see? Visit the ' +\n",
       "          '<a target=\"_blank\" href=https://colab.research.google.com/notebooks/data_table.ipynb>data table notebook</a>'\n",
       "          + ' to learn more about interactive tables.';\n",
       "        element.innerHTML = '';\n",
       "        dataTable['output_type'] = 'display_data';\n",
       "        await google.colab.output.renderOutput(dataTable, element);\n",
       "        const docLink = document.createElement('div');\n",
       "        docLink.innerHTML = docLinkHtml;\n",
       "        element.appendChild(docLink);\n",
       "      }\n",
       "    </script>\n",
       "  </div>\n",
       "\n",
       "\n",
       "<div id=\"df-d1291585-6b38-4d03-abb4-bb7deff0ba30\">\n",
       "  <button class=\"colab-df-quickchart\" onclick=\"quickchart('df-d1291585-6b38-4d03-abb4-bb7deff0ba30')\"\n",
       "            title=\"Suggest charts\"\n",
       "            style=\"display:none;\">\n",
       "\n",
       "<svg xmlns=\"http://www.w3.org/2000/svg\" height=\"24px\"viewBox=\"0 0 24 24\"\n",
       "     width=\"24px\">\n",
       "    <g>\n",
       "        <path d=\"M19 3H5c-1.1 0-2 .9-2 2v14c0 1.1.9 2 2 2h14c1.1 0 2-.9 2-2V5c0-1.1-.9-2-2-2zM9 17H7v-7h2v7zm4 0h-2V7h2v10zm4 0h-2v-4h2v4z\"/>\n",
       "    </g>\n",
       "</svg>\n",
       "  </button>\n",
       "\n",
       "<style>\n",
       "  .colab-df-quickchart {\n",
       "      --bg-color: #E8F0FE;\n",
       "      --fill-color: #1967D2;\n",
       "      --hover-bg-color: #E2EBFA;\n",
       "      --hover-fill-color: #174EA6;\n",
       "      --disabled-fill-color: #AAA;\n",
       "      --disabled-bg-color: #DDD;\n",
       "  }\n",
       "\n",
       "  [theme=dark] .colab-df-quickchart {\n",
       "      --bg-color: #3B4455;\n",
       "      --fill-color: #D2E3FC;\n",
       "      --hover-bg-color: #434B5C;\n",
       "      --hover-fill-color: #FFFFFF;\n",
       "      --disabled-bg-color: #3B4455;\n",
       "      --disabled-fill-color: #666;\n",
       "  }\n",
       "\n",
       "  .colab-df-quickchart {\n",
       "    background-color: var(--bg-color);\n",
       "    border: none;\n",
       "    border-radius: 50%;\n",
       "    cursor: pointer;\n",
       "    display: none;\n",
       "    fill: var(--fill-color);\n",
       "    height: 32px;\n",
       "    padding: 0;\n",
       "    width: 32px;\n",
       "  }\n",
       "\n",
       "  .colab-df-quickchart:hover {\n",
       "    background-color: var(--hover-bg-color);\n",
       "    box-shadow: 0 1px 2px rgba(60, 64, 67, 0.3), 0 1px 3px 1px rgba(60, 64, 67, 0.15);\n",
       "    fill: var(--button-hover-fill-color);\n",
       "  }\n",
       "\n",
       "  .colab-df-quickchart-complete:disabled,\n",
       "  .colab-df-quickchart-complete:disabled:hover {\n",
       "    background-color: var(--disabled-bg-color);\n",
       "    fill: var(--disabled-fill-color);\n",
       "    box-shadow: none;\n",
       "  }\n",
       "\n",
       "  .colab-df-spinner {\n",
       "    border: 2px solid var(--fill-color);\n",
       "    border-color: transparent;\n",
       "    border-bottom-color: var(--fill-color);\n",
       "    animation:\n",
       "      spin 1s steps(1) infinite;\n",
       "  }\n",
       "\n",
       "  @keyframes spin {\n",
       "    0% {\n",
       "      border-color: transparent;\n",
       "      border-bottom-color: var(--fill-color);\n",
       "      border-left-color: var(--fill-color);\n",
       "    }\n",
       "    20% {\n",
       "      border-color: transparent;\n",
       "      border-left-color: var(--fill-color);\n",
       "      border-top-color: var(--fill-color);\n",
       "    }\n",
       "    30% {\n",
       "      border-color: transparent;\n",
       "      border-left-color: var(--fill-color);\n",
       "      border-top-color: var(--fill-color);\n",
       "      border-right-color: var(--fill-color);\n",
       "    }\n",
       "    40% {\n",
       "      border-color: transparent;\n",
       "      border-right-color: var(--fill-color);\n",
       "      border-top-color: var(--fill-color);\n",
       "    }\n",
       "    60% {\n",
       "      border-color: transparent;\n",
       "      border-right-color: var(--fill-color);\n",
       "    }\n",
       "    80% {\n",
       "      border-color: transparent;\n",
       "      border-right-color: var(--fill-color);\n",
       "      border-bottom-color: var(--fill-color);\n",
       "    }\n",
       "    90% {\n",
       "      border-color: transparent;\n",
       "      border-bottom-color: var(--fill-color);\n",
       "    }\n",
       "  }\n",
       "</style>\n",
       "\n",
       "  <script>\n",
       "    async function quickchart(key) {\n",
       "      const quickchartButtonEl =\n",
       "        document.querySelector('#' + key + ' button');\n",
       "      quickchartButtonEl.disabled = true;  // To prevent multiple clicks.\n",
       "      quickchartButtonEl.classList.add('colab-df-spinner');\n",
       "      try {\n",
       "        const charts = await google.colab.kernel.invokeFunction(\n",
       "            'suggestCharts', [key], {});\n",
       "      } catch (error) {\n",
       "        console.error('Error during call to suggestCharts:', error);\n",
       "      }\n",
       "      quickchartButtonEl.classList.remove('colab-df-spinner');\n",
       "      quickchartButtonEl.classList.add('colab-df-quickchart-complete');\n",
       "    }\n",
       "    (() => {\n",
       "      let quickchartButtonEl =\n",
       "        document.querySelector('#df-d1291585-6b38-4d03-abb4-bb7deff0ba30 button');\n",
       "      quickchartButtonEl.style.display =\n",
       "        google.colab.kernel.accessAllowed ? 'block' : 'none';\n",
       "    })();\n",
       "  </script>\n",
       "</div>\n",
       "\n",
       "    </div>\n",
       "  </div>\n"
      ],
      "text/plain": [
       "                                         id  \\\n",
       "0  92c514c913c0bdfe25341af9fd72b29db544099b   \n",
       "1  2003841c7dc0e7c5b1a248f9cd536d727f27a45a   \n",
       "\n",
       "                                             article  \\\n",
       "0  Ever noticed how plane seats appear to be gett...   \n",
       "1  A drunk teenage boy had to be rescued by secur...   \n",
       "\n",
       "                                          highlights  \n",
       "0  Experts question if  packed out planes are put...  \n",
       "1  Drunk teenage boy climbed into lion enclosure ...  "
      ]
     },
     "execution_count": 57,
     "metadata": {},
     "output_type": "execute_result"
    }
   ],
   "source": [
    "train_df.head(2)"
   ]
  },
  {
   "cell_type": "code",
   "execution_count": 58,
   "metadata": {
    "colab": {
     "base_uri": "https://localhost:8080/",
     "height": 112
    },
    "id": "lgjY1VrUB0nJ",
    "outputId": "31ebdd4a-dc79-4e95-b7ac-e94c3f23187c"
   },
   "outputs": [
    {
     "data": {
      "application/vnd.google.colaboratory.intrinsic+json": {
       "summary": "{\n  \"name\": \"test_df\",\n  \"rows\": 13368,\n  \"fields\": [\n    {\n      \"column\": \"id\",\n      \"properties\": {\n        \"dtype\": \"string\",\n        \"num_unique_values\": 13368,\n        \"samples\": [\n          \"b73ed8b71f8e326e94c94d92706e053cb370626d\",\n          \"6c49472424f6cfb4558c3fe57786bcccf7f57ca6\",\n          \"80770b0b9213281ecfc0a49fe5222a74536da161\"\n        ],\n        \"semantic_type\": \"\",\n        \"description\": \"\"\n      }\n    },\n    {\n      \"column\": \"article\",\n      \"properties\": {\n        \"dtype\": \"string\",\n        \"num_unique_values\": 13368,\n        \"samples\": [\n          \"A bird that was long thought to have gone extinct has been rediscovered in Burma after a team of scientists used a recording of the species' distinctive call to track it down. The Jerdon's Babbler (chrysomma altirostre altirostre) - a small brown bird similar in size to a house sparrow - was last spotted in Myanmar in 1941 and was thought to have died out altogether. But a team of scientists managed to uncover multiple birds nesting in a small area of grassland in Myanmar's central Bago region in May last year, according to their report published in the latest edition of Birding Asia. Re-discovered:\\u00a0The Jerdon's Babbler which was thought extinct for 73 years until scientists found evidence of it living in Burma . The scientists targeted some of the few remaining patches of wild grassland left along Myanmar's mighty Irrawaddy river, now one of the most heavily cultivated and densely populated regions of the impoverished but emerging southeast Asian nation. At one small patch of grassland near an abandoned agricultural station, the team heard what they thought could be the babbler's call. They then used a recording of a Jerdon's Babbler from the Indian subcontinent to see if the bird would show itself. Frank Rheindt, from the National University of Singapore, told AFP he was the first person to spot the bird during the survey, which was also carried out with members of the Wildlife Conservation Society and Myanmar's Nature and Wildlife Conservation Division. 'It was unbelievable,' he recalled. 'We played the sound recordings and one of the birds came up from the reed beds. Like many song birds in reed beds you hardly ever see them, they only come out to defend their territory when they hear a territorial call.' Further searches over the next two days uncovered more birds allowing researchers to obtain blood samples and photographs. But researchers warned that the bird's survival is still far from guaranteed given pressure on Myanmar's few remaining grasslands. 'This discovery not only proves that the species still exists in Myanmar but that the habitat can still be found as well,' Colin Poole, director of Wildlife Conservation Society's regional hub in Singapore, said in a statement. 'Future work is needed to identify remaining pockets of natural grassland and develop systems for local communities to conserve and benefit from them,' he added. Birds fly over the Moe Yun Gyi Wetlands in Bago Division, Myanmar, where\\u00a0Jerdon's Babbler was re-discovered 73 years after it was believed to be extinct . Rheindt said the area of grassland where the bird was found was very small, 'around 50-80 hectares' and that new chicken and fish farms were being built nearby. He added that its plumage and song were significantly different to how it had been described by ornithologists in the early twentieth century - leading the team to suspect that it may differ from threatened populations found in Nepal, India and Pakistan. His team now hope to conduct DNA tests to decide if it is a separate species. Burma's quasi-civilian government replaced decades of brutal military rule in 2011. It has since embarked on a series of political reforms and shown itself to be far more open to foreign businesses and academic researchers than the country's generals were. Burma has more species of bird than any other country in mainland Southeast Asia, with ornithologists saying this number is could increase if more scientific research is conducted.\",\n          \"A Sydney pastor has spoken about the incredible moment Bali Nine ringleader Andrew Chan offered a vital piece of himself in a bid to save the man's life. Mal Feebrey, a men's mental health ambassador, had been diagnosed with terminal liver disease in 2010, when the death row inmate, with whom he had formed a close friendship, offered his own liver up for transplant. Chan, who had been in jail for five years at the time, 'knocked' the Assemblies of God minister about when he heard of his friends plight and immediately said, 'have mine'. Scroll down for video . Mal Feebrey (above left), a men's mental health ambassador, had been diagnosed with terminal liver disease in 2010, when Bali Nine kingpin Andrew Chan (above right), with whom he had formed a close friendship, offered his own liver up for transplant . 'It really touched me. Here I am waiting for a donor, I'm dying in front of my wife and kids and here he is going \\\"my liver's ok, you can have mine\\\",' Mr Feebrey told The Sydney Morning Herald. 'He was sort of like, if they want to kill me, then you can have my liver. It wasn't a passing-the-time comment, he wanted to make it happen. If he could have pulled it off he would have,' he said. Chan reportedly began making enquiries about whether the organ donation could go ahead, determined to save Mr Feebrey, who shared his Christian faith and had been a regular visitor since his incarceration in 2005. While Mr Feebrey received a liver from another organ donor, he said that the gesture was unforgettable and was characteristic of his 'incredible' friend. Chan and fellow Bali Nine member Myuran Sukumaran are currently being held on Nusakambangan island where they await execution and the outcome of their final appeals for clemency. Mr Feebrey said that when Chan heard the news that his appeal for clemency from Indonesian President Joko Widodo, he was more concerned with the health of a fellow inmate who was in the jail's clinic than himself. 'It was a bit surreal. Andrew took it on the chin and with courage and then he just walked off to go to the clinic to go and see this guy,' Mr Feebrey said . While Mr Feebrey received a liver from another organ donor, he said that the gesture was unforgettable and was characteristic of his 'incredible' friend . The pastor uses his social media accounts to campaign against the executions of the two Australians . Chan and fellow Bali Nine member Myuran Sukumaran are currently being held on Nusakambangan island where they await execution and the outcome of their final appeals for clemency . Mr Feebrey has continued to be in regular contact with Chan, and is an outspoken advocate for the 'I Stand For Mercy Campaign'. The pastor uses his social media accounts to campaign against the executions of the two Australians, and posted on his Instagram account after the Chan heard of his rejected Clemency appeal. 'Just spent the last half an hour with my friend Andrew Chan, when the Australian Consulate Staff notified him that his final appeal against [the] death sentence was rejected,' Mr Feebrey posted. 'He took it on the chin with courage, humility and with a contrite heart.' In February, the pastor posted a 'message of hope' to supporters of Chan on his Instagram account. 'The most beautiful people that I've known are those that have known defeat, known suffering, known struggle, known loss and yet found a way out of these depths,' he posted underneath a photograph of himself with Chan. In February, the pastor posted a 'message of hope' to supporters of Chan on his Instagram account . The men's mental health ambassador said it would be tragic for Chan and Sukumaran, who have worked tirelessly to mentor other prisoners, to be executed. 'Andrew is the idyllic, dream guy to mentor and rehabilitate and a great seed like him \\u2013 they want to put to death?,' Mr Feebrey asked. Both Chan and Sukumaran have been involved in running education and drug rehabilitation programs inside Kerobokan prison since 2009. New footage has emerged of Sukumaran, shot as a part of a documentary in May last year, of Sukumaran discussing his hopes for the future before his bid for clemency was rejected. 'I think I can do a lot of good on the outside if I ever got free. It's not like I'm just going to go back after all this and just sit and be somewhere,' reported 9news. 'I would want to do stuff like work and make good stuff and help people,' he told Norwegian educator Ivar Schou, who met the Australian while running rehabilitation programs inside the prison. Sukumaran, who now faces the death penalty along with fellow inmate Andrew Chan, said that he believed he had done wrong but that he felt his punishment was too harsh. 'I accept what I did was wrong and I think I should be punished for it,' he said. The pair may be waiting months for their execution as other prisoners pursue lengthy appeals . Myuran Sukumaran, left, and Andrew Chan, right, will be put through an 'assimilation' process as they prepare to face the firing squad . 'But I do think the death penalty is too excessive.' Sukumaran was convicted in 2005 after attempting to smuggle 8.3kg of heroin from Bali to Australia. He has called Kerobokan prison in Bali his home for the past ten years, along with Chan. Sukumaran describes the immense change that he has seen in his life over the past ten years, most notably when he and other inmates were allowed to start education. 'In 2009 they finally gave us permission to start working and doing some projects. Slowly slowly it helped me with my life. It kept me busy. It helped me be productive. I started learning and I was able to help other people learning.' Earlier on Saturday the Indonesian attorney-general Muhammad Prasetyo said that the pair could have their executions delayed for months as other death row inmates take on lengthy court appeals. President Widodo is adamant he will show no leniency to drug offenders caught on his shores . Mr Sukumaran was a highly respected art teacher while he was detained in Kerobokan prison . Mr Praseyto said the execution of the Bali nine duo will take place at the same time as several other foreigners on death row. This could delay the pair's execution as all avenues of legal appeal for the other eight convicted drug offenders must be exhausted before their death sentence can be carried out. The Australian government, alongside several notable public figures, have made repeated pleas to spare the lives of Mr Chan and Mr Sukumaran. Foreign Minister Julie Bishop has written to the Indonesia government offering to cover the cost of life imprisonment for the condemned pair if they agree to call off their executions. Ms Bishop is yet to receive a response.\",\n          \"Everton boss Roberto Martinez feels the poor condition of the pitch at Dynamo Kiev's Olympic Stadium is 'a concern' - but he is sure it will be just as problematic for one side as the other in Thursday's Europa League last-16 second-leg encounter. Rather than training on the pitch at their opponents' stadium as they normally would, Martinez' men did a session on the running track surrounding the playing surface - while the turf was covered by a protective sheet - following their arrival in Ukraine on Wednesday. And when asked about the state of the grass, the Spaniard said at his pre-match press conference: 'The pitch is a concern for both teams. Everton boss Roberto Martinez has expressed concerns over the quality of Dynamo Kiev's pitch . Everton players train ahead of their Europa League round of 16 second-leg with Dynamo Kiev . Everton currently lead the tie 2-1 on aggregate following their win at Goodison Park in the first-leg . With the pitch covered up, Everton players are made to train on the running track that surrounds it . Martinez has warned that the poor quality pitch could be a problem for both Everton and Dynamo Kiev . 'Dynamo Kiev are a technical team and they need a good pitch, and we are exactly the same. 'I don't think it will play a big part in terms of giving a favour or advantage to either of the two sides. 'I think it is a little bit of a shame for the game of football that the pitch is not going to be in perfect condition. 'But you have to adapt to whatever surface you play on.' An Everton coach leads the players in a series of stretches on the running track around the pitch . Leighton Baines (left) stretches alongside Everton team-mate Luke Garbutt at the Olympic Stadium .\"\n        ],\n        \"semantic_type\": \"\",\n        \"description\": \"\"\n      }\n    },\n    {\n      \"column\": \"highlights\",\n      \"properties\": {\n        \"dtype\": \"string\",\n        \"num_unique_values\": 13300,\n        \"samples\": [\n          \"Kenya is one of the biggest flower exporters in the world .\\nAround one in three flowers sold in Europe come from the country .\",\n          \"The two-bedroom end of terrace house collapsed on Tuesday morning .\\nBuilders had demolished a garage and stripped the inside of the house .\\nDevelopers wanted to build a second house on the side of the original .\\nThe Health and Safety Executive is investigating the cause of the collapse .\\nElderly neighbours claimed the disaster reminded them of 'The Blitz'\",\n          \"Fifty Shades author E. L. James was spotted in her new\\u00a0\\u00a379,000 electric car .\\nShe swapped her  Mini for the battery-powered luxury\\u00a0Tesla Model S .\\nSedan boasts top speed of 150mph and can do 0 to 60 in 3.2 seconds .\\nFormer TV executive made \\u00a333 million last year, more than \\u00a390,500 a day .\"\n        ],\n        \"semantic_type\": \"\",\n        \"description\": \"\"\n      }\n    }\n  ]\n}",
       "type": "dataframe",
       "variable_name": "test_df"
      },
      "text/html": [
       "\n",
       "  <div id=\"df-6f477521-2f79-49ba-b1c3-8c7afaf58028\" class=\"colab-df-container\">\n",
       "    <div>\n",
       "<style scoped>\n",
       "    .dataframe tbody tr th:only-of-type {\n",
       "        vertical-align: middle;\n",
       "    }\n",
       "\n",
       "    .dataframe tbody tr th {\n",
       "        vertical-align: top;\n",
       "    }\n",
       "\n",
       "    .dataframe thead th {\n",
       "        text-align: right;\n",
       "    }\n",
       "</style>\n",
       "<table border=\"1\" class=\"dataframe\">\n",
       "  <thead>\n",
       "    <tr style=\"text-align: right;\">\n",
       "      <th></th>\n",
       "      <th>id</th>\n",
       "      <th>article</th>\n",
       "      <th>highlights</th>\n",
       "    </tr>\n",
       "  </thead>\n",
       "  <tbody>\n",
       "    <tr>\n",
       "      <th>0</th>\n",
       "      <td>61df4979ac5fcc2b71be46ed6fe5a46ce7f071c3</td>\n",
       "      <td>Sally Forrest, an actress-dancer who graced th...</td>\n",
       "      <td>Sally Forrest, an actress-dancer who graced th...</td>\n",
       "    </tr>\n",
       "    <tr>\n",
       "      <th>1</th>\n",
       "      <td>21c0bd69b7e7df285c3d1b1cf56d4da925980a68</td>\n",
       "      <td>A middle-school teacher in China has inked hun...</td>\n",
       "      <td>Works include pictures of Presidential Palace ...</td>\n",
       "    </tr>\n",
       "  </tbody>\n",
       "</table>\n",
       "</div>\n",
       "    <div class=\"colab-df-buttons\">\n",
       "\n",
       "  <div class=\"colab-df-container\">\n",
       "    <button class=\"colab-df-convert\" onclick=\"convertToInteractive('df-6f477521-2f79-49ba-b1c3-8c7afaf58028')\"\n",
       "            title=\"Convert this dataframe to an interactive table.\"\n",
       "            style=\"display:none;\">\n",
       "\n",
       "  <svg xmlns=\"http://www.w3.org/2000/svg\" height=\"24px\" viewBox=\"0 -960 960 960\">\n",
       "    <path d=\"M120-120v-720h720v720H120Zm60-500h600v-160H180v160Zm220 220h160v-160H400v160Zm0 220h160v-160H400v160ZM180-400h160v-160H180v160Zm440 0h160v-160H620v160ZM180-180h160v-160H180v160Zm440 0h160v-160H620v160Z\"/>\n",
       "  </svg>\n",
       "    </button>\n",
       "\n",
       "  <style>\n",
       "    .colab-df-container {\n",
       "      display:flex;\n",
       "      gap: 12px;\n",
       "    }\n",
       "\n",
       "    .colab-df-convert {\n",
       "      background-color: #E8F0FE;\n",
       "      border: none;\n",
       "      border-radius: 50%;\n",
       "      cursor: pointer;\n",
       "      display: none;\n",
       "      fill: #1967D2;\n",
       "      height: 32px;\n",
       "      padding: 0 0 0 0;\n",
       "      width: 32px;\n",
       "    }\n",
       "\n",
       "    .colab-df-convert:hover {\n",
       "      background-color: #E2EBFA;\n",
       "      box-shadow: 0px 1px 2px rgba(60, 64, 67, 0.3), 0px 1px 3px 1px rgba(60, 64, 67, 0.15);\n",
       "      fill: #174EA6;\n",
       "    }\n",
       "\n",
       "    .colab-df-buttons div {\n",
       "      margin-bottom: 4px;\n",
       "    }\n",
       "\n",
       "    [theme=dark] .colab-df-convert {\n",
       "      background-color: #3B4455;\n",
       "      fill: #D2E3FC;\n",
       "    }\n",
       "\n",
       "    [theme=dark] .colab-df-convert:hover {\n",
       "      background-color: #434B5C;\n",
       "      box-shadow: 0px 1px 3px 1px rgba(0, 0, 0, 0.15);\n",
       "      filter: drop-shadow(0px 1px 2px rgba(0, 0, 0, 0.3));\n",
       "      fill: #FFFFFF;\n",
       "    }\n",
       "  </style>\n",
       "\n",
       "    <script>\n",
       "      const buttonEl =\n",
       "        document.querySelector('#df-6f477521-2f79-49ba-b1c3-8c7afaf58028 button.colab-df-convert');\n",
       "      buttonEl.style.display =\n",
       "        google.colab.kernel.accessAllowed ? 'block' : 'none';\n",
       "\n",
       "      async function convertToInteractive(key) {\n",
       "        const element = document.querySelector('#df-6f477521-2f79-49ba-b1c3-8c7afaf58028');\n",
       "        const dataTable =\n",
       "          await google.colab.kernel.invokeFunction('convertToInteractive',\n",
       "                                                    [key], {});\n",
       "        if (!dataTable) return;\n",
       "\n",
       "        const docLinkHtml = 'Like what you see? Visit the ' +\n",
       "          '<a target=\"_blank\" href=https://colab.research.google.com/notebooks/data_table.ipynb>data table notebook</a>'\n",
       "          + ' to learn more about interactive tables.';\n",
       "        element.innerHTML = '';\n",
       "        dataTable['output_type'] = 'display_data';\n",
       "        await google.colab.output.renderOutput(dataTable, element);\n",
       "        const docLink = document.createElement('div');\n",
       "        docLink.innerHTML = docLinkHtml;\n",
       "        element.appendChild(docLink);\n",
       "      }\n",
       "    </script>\n",
       "  </div>\n",
       "\n",
       "\n",
       "<div id=\"df-f38721d0-2ef2-42d3-ae01-efc34225989b\">\n",
       "  <button class=\"colab-df-quickchart\" onclick=\"quickchart('df-f38721d0-2ef2-42d3-ae01-efc34225989b')\"\n",
       "            title=\"Suggest charts\"\n",
       "            style=\"display:none;\">\n",
       "\n",
       "<svg xmlns=\"http://www.w3.org/2000/svg\" height=\"24px\"viewBox=\"0 0 24 24\"\n",
       "     width=\"24px\">\n",
       "    <g>\n",
       "        <path d=\"M19 3H5c-1.1 0-2 .9-2 2v14c0 1.1.9 2 2 2h14c1.1 0 2-.9 2-2V5c0-1.1-.9-2-2-2zM9 17H7v-7h2v7zm4 0h-2V7h2v10zm4 0h-2v-4h2v4z\"/>\n",
       "    </g>\n",
       "</svg>\n",
       "  </button>\n",
       "\n",
       "<style>\n",
       "  .colab-df-quickchart {\n",
       "      --bg-color: #E8F0FE;\n",
       "      --fill-color: #1967D2;\n",
       "      --hover-bg-color: #E2EBFA;\n",
       "      --hover-fill-color: #174EA6;\n",
       "      --disabled-fill-color: #AAA;\n",
       "      --disabled-bg-color: #DDD;\n",
       "  }\n",
       "\n",
       "  [theme=dark] .colab-df-quickchart {\n",
       "      --bg-color: #3B4455;\n",
       "      --fill-color: #D2E3FC;\n",
       "      --hover-bg-color: #434B5C;\n",
       "      --hover-fill-color: #FFFFFF;\n",
       "      --disabled-bg-color: #3B4455;\n",
       "      --disabled-fill-color: #666;\n",
       "  }\n",
       "\n",
       "  .colab-df-quickchart {\n",
       "    background-color: var(--bg-color);\n",
       "    border: none;\n",
       "    border-radius: 50%;\n",
       "    cursor: pointer;\n",
       "    display: none;\n",
       "    fill: var(--fill-color);\n",
       "    height: 32px;\n",
       "    padding: 0;\n",
       "    width: 32px;\n",
       "  }\n",
       "\n",
       "  .colab-df-quickchart:hover {\n",
       "    background-color: var(--hover-bg-color);\n",
       "    box-shadow: 0 1px 2px rgba(60, 64, 67, 0.3), 0 1px 3px 1px rgba(60, 64, 67, 0.15);\n",
       "    fill: var(--button-hover-fill-color);\n",
       "  }\n",
       "\n",
       "  .colab-df-quickchart-complete:disabled,\n",
       "  .colab-df-quickchart-complete:disabled:hover {\n",
       "    background-color: var(--disabled-bg-color);\n",
       "    fill: var(--disabled-fill-color);\n",
       "    box-shadow: none;\n",
       "  }\n",
       "\n",
       "  .colab-df-spinner {\n",
       "    border: 2px solid var(--fill-color);\n",
       "    border-color: transparent;\n",
       "    border-bottom-color: var(--fill-color);\n",
       "    animation:\n",
       "      spin 1s steps(1) infinite;\n",
       "  }\n",
       "\n",
       "  @keyframes spin {\n",
       "    0% {\n",
       "      border-color: transparent;\n",
       "      border-bottom-color: var(--fill-color);\n",
       "      border-left-color: var(--fill-color);\n",
       "    }\n",
       "    20% {\n",
       "      border-color: transparent;\n",
       "      border-left-color: var(--fill-color);\n",
       "      border-top-color: var(--fill-color);\n",
       "    }\n",
       "    30% {\n",
       "      border-color: transparent;\n",
       "      border-left-color: var(--fill-color);\n",
       "      border-top-color: var(--fill-color);\n",
       "      border-right-color: var(--fill-color);\n",
       "    }\n",
       "    40% {\n",
       "      border-color: transparent;\n",
       "      border-right-color: var(--fill-color);\n",
       "      border-top-color: var(--fill-color);\n",
       "    }\n",
       "    60% {\n",
       "      border-color: transparent;\n",
       "      border-right-color: var(--fill-color);\n",
       "    }\n",
       "    80% {\n",
       "      border-color: transparent;\n",
       "      border-right-color: var(--fill-color);\n",
       "      border-bottom-color: var(--fill-color);\n",
       "    }\n",
       "    90% {\n",
       "      border-color: transparent;\n",
       "      border-bottom-color: var(--fill-color);\n",
       "    }\n",
       "  }\n",
       "</style>\n",
       "\n",
       "  <script>\n",
       "    async function quickchart(key) {\n",
       "      const quickchartButtonEl =\n",
       "        document.querySelector('#' + key + ' button');\n",
       "      quickchartButtonEl.disabled = true;  // To prevent multiple clicks.\n",
       "      quickchartButtonEl.classList.add('colab-df-spinner');\n",
       "      try {\n",
       "        const charts = await google.colab.kernel.invokeFunction(\n",
       "            'suggestCharts', [key], {});\n",
       "      } catch (error) {\n",
       "        console.error('Error during call to suggestCharts:', error);\n",
       "      }\n",
       "      quickchartButtonEl.classList.remove('colab-df-spinner');\n",
       "      quickchartButtonEl.classList.add('colab-df-quickchart-complete');\n",
       "    }\n",
       "    (() => {\n",
       "      let quickchartButtonEl =\n",
       "        document.querySelector('#df-f38721d0-2ef2-42d3-ae01-efc34225989b button');\n",
       "      quickchartButtonEl.style.display =\n",
       "        google.colab.kernel.accessAllowed ? 'block' : 'none';\n",
       "    })();\n",
       "  </script>\n",
       "</div>\n",
       "\n",
       "    </div>\n",
       "  </div>\n"
      ],
      "text/plain": [
       "                                         id  \\\n",
       "0  61df4979ac5fcc2b71be46ed6fe5a46ce7f071c3   \n",
       "1  21c0bd69b7e7df285c3d1b1cf56d4da925980a68   \n",
       "\n",
       "                                             article  \\\n",
       "0  Sally Forrest, an actress-dancer who graced th...   \n",
       "1  A middle-school teacher in China has inked hun...   \n",
       "\n",
       "                                          highlights  \n",
       "0  Sally Forrest, an actress-dancer who graced th...  \n",
       "1  Works include pictures of Presidential Palace ...  "
      ]
     },
     "execution_count": 58,
     "metadata": {},
     "output_type": "execute_result"
    }
   ],
   "source": [
    "test_df.head(2)"
   ]
  },
  {
   "cell_type": "code",
   "execution_count": 59,
   "metadata": {
    "colab": {
     "base_uri": "https://localhost:8080/"
    },
    "id": "6t2pvDt3B2cG",
    "outputId": "036569ec-e29c-4bb1-9ef0-7dc03bad446d"
   },
   "outputs": [
    {
     "data": {
      "text/plain": [
       "((11490, 3), (13368, 3))"
      ]
     },
     "execution_count": 59,
     "metadata": {},
     "output_type": "execute_result"
    }
   ],
   "source": [
    "# shape of train and test\n",
    "train_df.shape, test_df.shape"
   ]
  },
  {
   "cell_type": "code",
   "execution_count": 60,
   "metadata": {
    "colab": {
     "base_uri": "https://localhost:8080/"
    },
    "id": "ZEtdP2kVYUpJ",
    "outputId": "d90fa73f-1d6d-49db-ee07-1f17da839a2e"
   },
   "outputs": [
    {
     "name": "stdout",
     "output_type": "stream",
     "text": [
      "Num GPUs Available:  1\n"
     ]
    }
   ],
   "source": [
    "# checking if we have GPU available for model training\n",
    "import tensorflow as tf\n",
    "print(\"Num GPUs Available: \", len(tf.config.experimental.list_physical_devices('GPU')))"
   ]
  },
  {
   "cell_type": "code",
   "execution_count": 61,
   "metadata": {
    "id": "wAWZW5tZMhKp"
   },
   "outputs": [],
   "source": [
    "# Preparing text and summaries for model training\n",
    "# highlights are the summaries/target\n",
    "# articles are the original articles\n",
    "train_texts = ['summarize: ' + text.lower() for text in train_df['article']]\n",
    "train_summaries = [summary.lower() for summary in train_df['highlights']]\n",
    "\n",
    "test_texts = ['summarize: ' + text.lower() for text in test_df['article']]\n",
    "test_summaries = [summary.lower() for summary in test_df['highlights']]"
   ]
  },
  {
   "cell_type": "code",
   "execution_count": 62,
   "metadata": {
    "colab": {
     "base_uri": "https://localhost:8080/",
     "height": 140
    },
    "id": "_KuB-6kbMq-6",
    "outputId": "7e0dd6ce-e574-4902-8a4f-df8dcc41bf57"
   },
   "outputs": [
    {
     "data": {
      "application/vnd.google.colaboratory.intrinsic+json": {
       "type": "string"
      },
      "text/plain": [
       "\"summarize: ever noticed how plane seats appear to be getting smaller and smaller? with increasing numbers of people taking to the skies, some experts are questioning if having such packed out planes is putting passengers at risk. they say that the shrinking space on aeroplanes is not only uncomfortable - it's putting our health and safety in danger. more than squabbling over the arm rest, shrinking space on planes putting our health and safety in danger? this week, a u.s consumer advisory group set up by the department of transportation said at a public hearing that while the government is happy to set standards for animals flying on planes, it doesn't stipulate a minimum amount of space for humans. 'in a world where animals have more rights to space and food than humans,' said charlie leocha, consumer representative on the committee.\\xa0'it is time that the dot and faa take a stand for humane treatment of passengers.' but could crowding on planes lead to more serious issues than fighting for space in the overhead lockers, crashing elbows and seat back kicking? tests conducted by the faa use planes with a 31 inch pitch, a standard which on some airlines has decreased . many economy seats on united airlines have 30 inches of room, while some airlines offer as little as 28 inches . cynthia corbertt, a human factors researcher with the federal aviation administration, that it conducts tests on how quickly passengers can leave a plane. but these tests are conducted using planes with 31 inches between each row of seats, a standard which on some airlines has decreased, reported the detroit news. the distance between two seats from one point on a seat to the same point on the seat behind it is known as the pitch. while most airlines stick to a pitch of 31 inches or above, some fall below this. while united airlines has 30 inches of space, gulf air economy seats have between 29 and 32 inches, air asia offers 29 inches and spirit airlines offers just 28 inches. british airways has a seat pitch of 31 inches, while easyjet has 29 inches, thomson's short haul seat pitch is 28 inches, and virgin atlantic's is 30-31.\""
      ]
     },
     "execution_count": 62,
     "metadata": {},
     "output_type": "execute_result"
    }
   ],
   "source": [
    "train_texts[0]"
   ]
  },
  {
   "cell_type": "code",
   "execution_count": 63,
   "metadata": {
    "colab": {
     "base_uri": "https://localhost:8080/",
     "height": 53
    },
    "id": "7omKR_DSM18w",
    "outputId": "aca48ef4-23ff-4043-d4f4-c6f53f2709bf"
   },
   "outputs": [
    {
     "data": {
      "application/vnd.google.colaboratory.intrinsic+json": {
       "type": "string"
      },
      "text/plain": [
       "'experts question if  packed out planes are putting passengers at risk .\\nu.s consumer advisory group says minimum space must be stipulated .\\nsafety tests conducted on planes with more leg room than airlines offer .'"
      ]
     },
     "execution_count": 63,
     "metadata": {},
     "output_type": "execute_result"
    }
   ],
   "source": [
    "train_summaries[0]"
   ]
  },
  {
   "cell_type": "code",
   "execution_count": 64,
   "metadata": {
    "colab": {
     "base_uri": "https://localhost:8080/"
    },
    "id": "hnG4CP4vMjUL",
    "outputId": "328fc20c-25c8-4679-8a58-0248e33cf402"
   },
   "outputs": [
    {
     "name": "stderr",
     "output_type": "stream",
     "text": [
      "Special tokens have been added in the vocabulary, make sure the associated word embeddings are fine-tuned or trained.\n",
      "All PyTorch model weights were used when initializing TFT5ForConditionalGeneration.\n",
      "\n",
      "All the weights of TFT5ForConditionalGeneration were initialized from the PyTorch model.\n",
      "If your task is similar to the task the model of the checkpoint was trained on, you can already use TFT5ForConditionalGeneration for predictions without further training.\n"
     ]
    }
   ],
   "source": [
    "# Initializing the tokenizer and model\n",
    "tokenizer = T5Tokenizer.from_pretrained('t5-small')\n",
    "model = TFT5ForConditionalGeneration.from_pretrained('t5-small')"
   ]
  },
  {
   "cell_type": "code",
   "execution_count": 65,
   "metadata": {
    "id": "b2OiHcIEMm3R"
   },
   "outputs": [],
   "source": [
    "# Encodingthe train and test set with truncation and padding\n",
    "train_encodings = tokenizer(train_texts, return_tensors='tf', padding=True, truncation=True, max_length=512)\n",
    "train_labels = tokenizer(train_summaries, return_tensors='tf', padding=True, truncation=True, max_length=150)\n",
    "\n",
    "test_encodings = tokenizer(test_texts, return_tensors='tf', padding=True, truncation=True, max_length=512)\n",
    "test_labels = tokenizer(test_summaries, return_tensors='tf', padding=True, truncation=True, max_length=150)"
   ]
  },
  {
   "cell_type": "code",
   "execution_count": 66,
   "metadata": {
    "colab": {
     "base_uri": "https://localhost:8080/"
    },
    "id": "8hno9DYPM9B_",
    "outputId": "1442e453-8658-47b2-d16d-af28c7ee9dd8"
   },
   "outputs": [
    {
     "data": {
      "text/plain": [
       "<tf.Tensor: shape=(512,), dtype=int32, numpy=\n",
       "array([21603,    10,   664,  4944,   149,  6112,  6116,  2385,    12,\n",
       "          36,   652,  2755,    11,  2755,    58,    28,  3094,  2302,\n",
       "          13,   151,   838,    12,     8, 22902,     6,   128,  2273,\n",
       "          33,   822,    53,     3,    99,   578,   224,  7614,    91,\n",
       "        6112,     7,    19,     3,  3131,  9234,    44,  1020,     5,\n",
       "          79,   497,    24,     8, 18508,    53,   628,    30, 15726,\n",
       "        3767,    15,     7,    19,    59,   163, 14209,     3,    18,\n",
       "          34,    31,     7,     3,  3131,    69,   533,    11,  1455,\n",
       "          16,  5129,     5,    72,   145,     3,     7,  4960,   115,\n",
       "        7428,   147,     8,  2939,   880,     6, 18508,    53,   628,\n",
       "          30,  6112,     7,     3,  3131,    69,   533,    11,  1455,\n",
       "          16,  5129,    58,    48,   471,     6,     3,     9,     3,\n",
       "          76,     5,     7,  3733, 18599,   563,   356,    95,    57,\n",
       "           8,  3066,    13,  5127,   243,    44,     3,     9,   452,\n",
       "        3507,    24,   298,     8,   789,    19,  1095,    12,   356,\n",
       "        2443,    21,  3127,  7070,    30,  6112,     7,     6,    34,\n",
       "         744,    31,    17, 28713,     3,     9,  2559,   866,    13,\n",
       "         628,    21,  6917,     5,     3,    31,    77,     3,     9,\n",
       "         296,   213,  3127,    43,    72,  2166,    12,   628,    11,\n",
       "         542,   145,  6917,     6,    31,   243,     3,  4059,  1896,\n",
       "          90,  6322,     9,     6,  3733,  6978,    30,     8,  4492,\n",
       "           5,     3,    31,   155,    19,    97,    24,     8,   103,\n",
       "          17,    11,     3,    89,     9,     9,   240,     3,     9,\n",
       "        1518,    21,   936,    15,  1058,    13,  9234,     5,    31,\n",
       "          68,   228,  4374,    53,    30,  6112,     7,   991,    12,\n",
       "          72,  2261,   807,   145,  6237,    21,   628,    16,     8,\n",
       "       15998, 17596,     7,     6,     3, 29126, 23630,     7,    11,\n",
       "        3143,   223,     3, 24820,    58,  3830,  4468,    57,     8,\n",
       "           3,    89,     9,     9,   169,  6112,     7,    28,     3,\n",
       "           9,  2664,  5913,  6242,     6,     3,     9,  1068,    84,\n",
       "          30,   128, 19184,    65, 13665,     3,     5,   186,  2717,\n",
       "        6116,    30, 18279, 19184,    43,   604,  5075,    13,   562,\n",
       "           6,   298,   128, 19184,   462,    38,   385,    38,  2059,\n",
       "        5075,     3,     5,     3,    75,    63,    29,  7436,     9,\n",
       "        4301,  7041,    17,     6,     3,     9,   936,  2580, 18658,\n",
       "          28,     8,  2822, 18979,  3602,     6,    24,    34,  3498,\n",
       "           7,  3830,    30,   149,  1224,  9234,    54,  1175,     3,\n",
       "           9,  6112,     5,    68,   175,  3830,    33,  4468,   338,\n",
       "        6112,     7,    28,  2664,  5075,   344,   284,  7358,    13,\n",
       "        6116,     6,     3,     9,  1068,    84,    30,   128, 19184,\n",
       "          65, 13665,     6,  2196,     8,     3,    26, 15252,   155,\n",
       "        1506,     5,     8,  2357,   344,   192,  6116,    45,    80,\n",
       "         500,    30,     3,     9,  3143,    12,     8,   337,   500,\n",
       "          30,     8,  3143,  1187,    34,    19,   801,    38,     8,\n",
       "        6242,     5,   298,   167, 19184,  4372,    12,     3,     9,\n",
       "        6242,    13,  2664,  5075,    42,   756,     6,   128,  1590,\n",
       "         666,    48,     5,   298, 18279, 19184,    65,   604,  5075,\n",
       "          13,   628,     6,     3,  6106,    89,   799,  2717,  6116,\n",
       "          43,   344,  2838,    11,  3538,  5075,     6,   799,     3,\n",
       "       15974,   704,  2838,  5075,    11,  3564, 19184,   704,   131,\n",
       "        2059,  5075,     5,     3,  2160,    17,  1273,   799,  6415,\n",
       "          65,     3,     9,  3143,  6242,    13,  2664,  5075,     6,\n",
       "         298,   514,  9245,    65,  2838,  5075,     6,     3,    17,\n",
       "       10207,   739,    31,     7,   710, 14115,  3143,  6242,    19,\n",
       "        2059,  5075,     6,    11, 24556,     3, 31767,    31,     7,\n",
       "          19, 12471,  3341,     5,     1,     0,     0,     0,     0,\n",
       "           0,     0,     0,     0,     0,     0,     0,     0],\n",
       "      dtype=int32)>"
      ]
     },
     "execution_count": 66,
     "metadata": {},
     "output_type": "execute_result"
    }
   ],
   "source": [
    "train_encodings['input_ids'][0]"
   ]
  },
  {
   "cell_type": "code",
   "execution_count": 67,
   "metadata": {
    "colab": {
     "base_uri": "https://localhost:8080/"
    },
    "id": "SY83cLxeNBj2",
    "outputId": "7c8f0792-06e6-4505-8ac8-f6a426e10da1"
   },
   "outputs": [
    {
     "data": {
      "text/plain": [
       "<tf.Tensor: shape=(150,), dtype=int32, numpy=\n",
       "array([ 2273,   822,     3,    99,  7614,    91,  6112,     7,    33,\n",
       "           3,  3131,  9234,    44,  1020,     3,     5,     3,    76,\n",
       "           5,     7,  3733, 18599,   563,   845,  2559,   628,   398,\n",
       "          36, 28713,    26,     3,     5,  1455,  3830,  4468,    30,\n",
       "        6112,     7,    28,    72,  4553,   562,   145, 19184,   462,\n",
       "           3,     5,     1,     0,     0,     0,     0,     0,     0,\n",
       "           0,     0,     0,     0,     0,     0,     0,     0,     0,\n",
       "           0,     0,     0,     0,     0,     0,     0,     0,     0,\n",
       "           0,     0,     0,     0,     0,     0,     0,     0,     0,\n",
       "           0,     0,     0,     0,     0,     0,     0,     0,     0,\n",
       "           0,     0,     0,     0,     0,     0,     0,     0,     0,\n",
       "           0,     0,     0,     0,     0,     0,     0,     0,     0,\n",
       "           0,     0,     0,     0,     0,     0,     0,     0,     0,\n",
       "           0,     0,     0,     0,     0,     0,     0,     0,     0,\n",
       "           0,     0,     0,     0,     0,     0,     0,     0,     0,\n",
       "           0,     0,     0,     0,     0,     0,     0,     0,     0,\n",
       "           0,     0,     0,     0,     0,     0], dtype=int32)>"
      ]
     },
     "execution_count": 67,
     "metadata": {},
     "output_type": "execute_result"
    }
   ],
   "source": [
    "train_labels['input_ids'][0]"
   ]
  },
  {
   "cell_type": "code",
   "execution_count": 68,
   "metadata": {
    "colab": {
     "base_uri": "https://localhost:8080/"
    },
    "id": "nxeetZ3wOVeY",
    "outputId": "87b5b0e6-d864-4ec7-a248-46cbb928772a"
   },
   "outputs": [
    {
     "data": {
      "text/plain": [
       "<tf.Tensor: shape=(150,), dtype=int32, numpy=\n",
       "array([18364, 21615,  4940,     3, 23626,   139,     3,  7325, 22104,\n",
       "          44,     3,   172,    32,    32,    16,  4653, 18222,     3,\n",
       "           5,     3,    52,     9,   107,    83,     3,  2729,  1635,\n",
       "           6, 12864,  4037,  1587,  3127, 14314,    53,     3,    31,\n",
       "         235,  1135,     3,    23,  5781,     3,     9,     3,  7325,\n",
       "          55,    31,     3, 29178,     3,    88,  4728,   139,     3,\n",
       "           9,  2288,   144,   274,  7232,     3,  7325,     7,    11,\n",
       "          47,     3, 28540,     3,     5,     1,     0,     0,     0,\n",
       "           0,     0,     0,     0,     0,     0,     0,     0,     0,\n",
       "           0,     0,     0,     0,     0,     0,     0,     0,     0,\n",
       "           0,     0,     0,     0,     0,     0,     0,     0,     0,\n",
       "           0,     0,     0,     0,     0,     0,     0,     0,     0,\n",
       "           0,     0,     0,     0,     0,     0,     0,     0,     0,\n",
       "           0,     0,     0,     0,     0,     0,     0,     0,     0,\n",
       "           0,     0,     0,     0,     0,     0,     0,     0,     0,\n",
       "           0,     0,     0,     0,     0,     0,     0,     0,     0,\n",
       "           0,     0,     0,     0,     0,     0], dtype=int32)>"
      ]
     },
     "execution_count": 68,
     "metadata": {},
     "output_type": "execute_result"
    }
   ],
   "source": [
    "train_labels['input_ids'][1]"
   ]
  },
  {
   "cell_type": "code",
   "execution_count": 69,
   "metadata": {
    "id": "6FjnML9SNGqf"
   },
   "outputs": [],
   "source": [
    "# Adding decoder_input_ids by shifting labels and adding start token to the summaries/Target\n",
    "def add_decoder_inputs(labels):\n",
    "    labels_shifted = tf.concat([tf.fill([labels.shape[0], 1], tokenizer.pad_token_id), labels[:, :-1]], axis=-1)\n",
    "    return labels_shifted\n",
    "\n",
    "train_decoder_input_ids = add_decoder_inputs(train_labels['input_ids'])\n",
    "test_decoder_input_ids = add_decoder_inputs(test_labels['input_ids'])"
   ]
  },
  {
   "cell_type": "code",
   "execution_count": 70,
   "metadata": {
    "colab": {
     "base_uri": "https://localhost:8080/"
    },
    "id": "e-j0L6oENxEo",
    "outputId": "3bfa3e3c-22b3-4161-97e9-aef19357c1ae"
   },
   "outputs": [
    {
     "data": {
      "text/plain": [
       "<tf.Tensor: shape=(150,), dtype=int32, numpy=\n",
       "array([    0,  2273,   822,     3,    99,  7614,    91,  6112,     7,\n",
       "          33,     3,  3131,  9234,    44,  1020,     3,     5,     3,\n",
       "          76,     5,     7,  3733, 18599,   563,   845,  2559,   628,\n",
       "         398,    36, 28713,    26,     3,     5,  1455,  3830,  4468,\n",
       "          30,  6112,     7,    28,    72,  4553,   562,   145, 19184,\n",
       "         462,     3,     5,     1,     0,     0,     0,     0,     0,\n",
       "           0,     0,     0,     0,     0,     0,     0,     0,     0,\n",
       "           0,     0,     0,     0,     0,     0,     0,     0,     0,\n",
       "           0,     0,     0,     0,     0,     0,     0,     0,     0,\n",
       "           0,     0,     0,     0,     0,     0,     0,     0,     0,\n",
       "           0,     0,     0,     0,     0,     0,     0,     0,     0,\n",
       "           0,     0,     0,     0,     0,     0,     0,     0,     0,\n",
       "           0,     0,     0,     0,     0,     0,     0,     0,     0,\n",
       "           0,     0,     0,     0,     0,     0,     0,     0,     0,\n",
       "           0,     0,     0,     0,     0,     0,     0,     0,     0,\n",
       "           0,     0,     0,     0,     0,     0,     0,     0,     0,\n",
       "           0,     0,     0,     0,     0,     0], dtype=int32)>"
      ]
     },
     "execution_count": 70,
     "metadata": {},
     "output_type": "execute_result"
    }
   ],
   "source": [
    "train_decoder_input_ids[0]"
   ]
  },
  {
   "cell_type": "code",
   "execution_count": 71,
   "metadata": {
    "colab": {
     "base_uri": "https://localhost:8080/"
    },
    "id": "4iO30nGaN7s3",
    "outputId": "c4bdbbec-92dd-4fa3-f94e-1a13d25f433a"
   },
   "outputs": [
    {
     "data": {
      "text/plain": [
       "<tf.Tensor: shape=(150,), dtype=int32, numpy=\n",
       "array([    0, 18364, 21615,  4940,     3, 23626,   139,     3,  7325,\n",
       "       22104,    44,     3,   172,    32,    32,    16,  4653, 18222,\n",
       "           3,     5,     3,    52,     9,   107,    83,     3,  2729,\n",
       "        1635,     6, 12864,  4037,  1587,  3127, 14314,    53,     3,\n",
       "          31,   235,  1135,     3,    23,  5781,     3,     9,     3,\n",
       "        7325,    55,    31,     3, 29178,     3,    88,  4728,   139,\n",
       "           3,     9,  2288,   144,   274,  7232,     3,  7325,     7,\n",
       "          11,    47,     3, 28540,     3,     5,     1,     0,     0,\n",
       "           0,     0,     0,     0,     0,     0,     0,     0,     0,\n",
       "           0,     0,     0,     0,     0,     0,     0,     0,     0,\n",
       "           0,     0,     0,     0,     0,     0,     0,     0,     0,\n",
       "           0,     0,     0,     0,     0,     0,     0,     0,     0,\n",
       "           0,     0,     0,     0,     0,     0,     0,     0,     0,\n",
       "           0,     0,     0,     0,     0,     0,     0,     0,     0,\n",
       "           0,     0,     0,     0,     0,     0,     0,     0,     0,\n",
       "           0,     0,     0,     0,     0,     0,     0,     0,     0,\n",
       "           0,     0,     0,     0,     0,     0], dtype=int32)>"
      ]
     },
     "execution_count": 71,
     "metadata": {},
     "output_type": "execute_result"
    }
   ],
   "source": [
    "train_decoder_input_ids[1]"
   ]
  },
  {
   "cell_type": "code",
   "execution_count": 72,
   "metadata": {
    "id": "fuHAuT1kSiFW"
   },
   "outputs": [],
   "source": [
    "# Creating TensorFlow datasets\n",
    "def create_tf_dataset(encodings, labels, decoder_input_ids, batch_size=8):\n",
    "    dataset = tf.data.Dataset.from_tensor_slices((\n",
    "        {**encodings, 'decoder_input_ids': decoder_input_ids},\n",
    "        labels\n",
    "    ))\n",
    "    \n",
    "    return dataset.shuffle(len(encodings['input_ids'])).batch(batch_size)\n",
    "\n",
    "train_dataset = create_tf_dataset(train_encodings, train_labels['input_ids'], train_decoder_input_ids, batch_size=8)\n",
    "test_dataset = create_tf_dataset(test_encodings, test_labels['input_ids'], test_decoder_input_ids, batch_size=8)"
   ]
  },
  {
   "cell_type": "code",
   "execution_count": 73,
   "metadata": {
    "colab": {
     "base_uri": "https://localhost:8080/"
    },
    "id": "OWps8KfNSjNB",
    "outputId": "5814f3fd-5c09-44f1-af77-5fd5717cece0"
   },
   "outputs": [
    {
     "data": {
      "text/plain": [
       "<_BatchDataset element_spec=({'input_ids': TensorSpec(shape=(None, 512), dtype=tf.int32, name=None), 'attention_mask': TensorSpec(shape=(None, 512), dtype=tf.int32, name=None), 'decoder_input_ids': TensorSpec(shape=(None, 150), dtype=tf.int32, name=None)}, TensorSpec(shape=(None, 150), dtype=tf.int32, name=None))>"
      ]
     },
     "execution_count": 73,
     "metadata": {},
     "output_type": "execute_result"
    }
   ],
   "source": [
    "train_dataset"
   ]
  },
  {
   "cell_type": "code",
   "execution_count": 74,
   "metadata": {
    "colab": {
     "base_uri": "https://localhost:8080/"
    },
    "id": "rpRJei-ZSlYJ",
    "outputId": "3f5627fc-3400-47f2-aa07-c10c79cd8515"
   },
   "outputs": [
    {
     "data": {
      "text/plain": [
       "<_BatchDataset element_spec=({'input_ids': TensorSpec(shape=(None, 512), dtype=tf.int32, name=None), 'attention_mask': TensorSpec(shape=(None, 512), dtype=tf.int32, name=None), 'decoder_input_ids': TensorSpec(shape=(None, 150), dtype=tf.int32, name=None)}, TensorSpec(shape=(None, 150), dtype=tf.int32, name=None))>"
      ]
     },
     "execution_count": 74,
     "metadata": {},
     "output_type": "execute_result"
    }
   ],
   "source": [
    "test_dataset"
   ]
  },
  {
   "cell_type": "code",
   "execution_count": 75,
   "metadata": {
    "colab": {
     "base_uri": "https://localhost:8080/"
    },
    "id": "hWXv8uRAaa5e",
    "outputId": "da5c1451-d7e4-49af-8416-32fa4feed9ca"
   },
   "outputs": [
    {
     "name": "stdout",
     "output_type": "stream",
     "text": [
      "Epoch 1/3\n",
      "1437/1437 [==============================] - 1022s 669ms/step - loss: 1.8004 - accuracy: 0.3635 - val_loss: 1.6188 - val_accuracy: 0.3970\n",
      "Epoch 2/3\n",
      "1437/1437 [==============================] - 947s 659ms/step - loss: 1.7520 - accuracy: 0.3671 - val_loss: 1.6112 - val_accuracy: 0.3975\n",
      "Epoch 3/3\n",
      "1437/1437 [==============================] - 946s 659ms/step - loss: 1.7238 - accuracy: 0.3695 - val_loss: 1.6141 - val_accuracy: 0.3974\n"
     ]
    }
   ],
   "source": [
    "# Setting up the optimizer\n",
    "optimizer = tf.keras.optimizers.Adam(learning_rate=5e-5)\n",
    "\n",
    "# Defining custom loss function\n",
    "def masked_sparse_categorical_crossentropy(y_true, y_pred):\n",
    "    # Defining mask to ignore padding tokens\n",
    "    mask = tf.math.logical_not(tf.math.equal(y_true, tokenizer.pad_token_id))\n",
    "    # Calculating loss\n",
    "    loss = tf.keras.losses.sparse_categorical_crossentropy(y_true, y_pred, from_logits=True)\n",
    "    # Applying mask\n",
    "    mask = tf.cast(mask, dtype=loss.dtype)\n",
    "    loss *= mask\n",
    "    # Taking average over non-padded tokens\n",
    "    return tf.reduce_sum(loss) / tf.reduce_sum(mask)\n",
    "\n",
    "# Compiling the model with custom loss function\n",
    "model.compile(optimizer=optimizer, loss=masked_sparse_categorical_crossentropy, metrics=['accuracy'])\n",
    "\n",
    "# Fine Tuning the model\n",
    "history = model.fit(\n",
    "    train_dataset,\n",
    "    epochs=3,\n",
    "    validation_data=test_dataset\n",
    ")\n"
   ]
  },
  {
   "cell_type": "code",
   "execution_count": 76,
   "metadata": {
    "colab": {
     "base_uri": "https://localhost:8080/"
    },
    "id": "qaZHBeGsZD3p",
    "outputId": "99b24618-5636-40a0-b007-412a79aaea7c"
   },
   "outputs": [
    {
     "name": "stdout",
     "output_type": "stream",
     "text": [
      "1671/1671 [==============================] - 308s 185ms/step - loss: 1.6138 - accuracy: 0.3974\n",
      "Test loss: [1.6137797832489014, 0.397405743598938]\n"
     ]
    }
   ],
   "source": [
    "# Evaluating the model\n",
    "results = model.evaluate(test_dataset)\n",
    "print(f\"Test loss: {results}\")"
   ]
  },
  {
   "cell_type": "code",
   "execution_count": null,
   "metadata": {},
   "outputs": [],
   "source": [
    "# Summarization function\n",
    "# It converts the article/input text into the required format for prediction/summarization.\n",
    "def summarize(text):\n",
    "    input_text = 'summarize: ' + text.lower()\n",
    "    input_ids = tokenizer.encode(input_text, return_tensors='tf', max_length=512, truncation=True)\n",
    "    summary_ids = model.generate(input_ids, max_length=150, min_length=30, length_penalty=2.0, num_beams=4, early_stopping=True)\n",
    "    return tokenizer.decode(summary_ids[0], skip_special_tokens=True)"
   ]
  },
  {
   "cell_type": "code",
   "execution_count": 77,
   "metadata": {
    "colab": {
     "base_uri": "https://localhost:8080/"
    },
    "id": "tyR5xSCznKWD",
    "outputId": "16b8d09d-97e9-4600-f3e7-861ea040a196"
   },
   "outputs": [
    {
     "name": "stdout",
     "output_type": "stream",
     "text": [
      "ronda rousey beat cat zingano in 14 seconds at staples center in los angeles. the bantamweight champion was expected to face the toughest examination of her reign as bantamweight champion. rousey landed on her head but the champion gracefully flipped zingano on to her back.\n"
     ]
    }
   ],
   "source": [
    "# Making prediction on an article\n",
    "text_to_summarize = \"\"\"Ronda Rousey recorded the fastest-ever finish in a UFC title fight as she submitted Cat Zingano after just 14 seconds in Los Angeles. Rousey was expected to face the toughest examination of her reign as bantamweight champion against the unbeaten Zingano. But having avoided a flying knee in the opening seconds, Rousey took her opponent down and set to work trying to execute her trademark armbar. Scroll down to watch Rousey beat Zingano in 14 seconds .\n",
    "Ronda Rousey manoeuvres herself into position to submit Cat Zingano after 14 seconds of their fight .\n",
    "Rousey attempts to lock in her trademark arm bar finish as she defended her bantamweight title .\n",
    "Rousey consoles Zingano after her stunning victory inside 14 seconds at the Staples Center in Los Angeles .\n",
    "Rousey grapples with Zingano before celebrating in the Octagon after her record-breaking victory .\n",
    "Ronda Rousey bt Cat Zingano via sub . Holly Holm bt Raquel Pennington via SD .\n",
    "Jake Ellenberger bt Josh Koscheck via sub . Alan Jouban bt Richard Walsh via KO .\n",
    "Tony Ferguson bt Gleison Tibau via sub . Roan Carneiro bt Mark Munoz via sub .\n",
    "Roman Salazar bt Norifumi Yamamoto N/C . Tim Means bt Dhiego Lima via TKO .\n",
    "Derrick Lewis bt Ruan Potts via TKO . Valmir Lazaro bt James Krause via SD .\n",
    "Masio Fullen bt Alexander Torres via SD .\n",
    "Rousey had landed on her head but the champion gracefully flipped Zingano on to her back,\n",
    "got up and manoeuvred swiftly into position to wrench Zingano's arm grotesquely.\n",
    "Rousey forced the challenger to tap out.\n",
    "'We were expecting that she might come out and do something flying at me right away,\n",
    "' Rousey said. 'That's not usually how you land an armbar at that angle, but it works.\n",
    "It was a lot like judo transitions, where you scramble the second you hit the ground.\n",
    "'I made that up on the fly, to be honest. But it was kind of funny: We were going toward the ground,\n",
    "and I kind of reverted back to judo mode and was thinking, 'Don't touch your back. It's a point.'\n",
    "'That's where the acrobatic thing came from, was thinking about not touching your back in judo.'\n",
    " It was hard to work out who was more stunned, Zingano or the sell-out 17,000-crowd at the Staples Center.\n",
    " 'She's really good ... but that wouldn't happen again,' the beaten challenger said.\n",
    " 'It was a knee and then a throw and then a scramble, and then she was wrapped around my arm.\n",
    " I got caught. I was ready to do a million different things. I planned on getting in a fist fight tonight.\n",
    " ' Zingano looks in pain as Rousey moves herself into position to execute the armbar finish .\n",
    " Rousey has won all 11 of her mixed martial arts fights and all but one inside the first round .\n",
    " Rousey celebrates as Zingano is attended to by the referee following her early defeat in Los Angeles .\n",
    " Dublin featherweight Conor McGregor (left) and light-heavyweight champion Jon Jones were in attendance .\n",
    " Former UFC heavyweight champion Brock Lesnar was Octagon side as Rousey eased to victory .\n",
    " For the first time in the promotion's history, two women's fights headlined a pay-per-view event as boxer Holly Holm made her debut with a split-decision victory over Raquel Pennington in the co-main event.\n",
    "  Middleweight champion Chris Weidman originally was scheduled to fight Vitor Belfort but had to withdraw injured.\n",
    " Zingano had earned her title shot two years ago with an upset victory over Miesha Tate, but was forced to wait after suffering a serious knee injury before she was hit by her estranged husband's suicide last year.\n",
    " Holm, meanwhile, ended an 11-year pro boxing career to concentrate on MMA two years ago but looked far from the complete package against Pennington. Both fighters landed big shots during a stand-up fight, and while Holm finished with a bloody nose, she left Pennington with a swollen left eye. UFC Octagon girls Vanessa Hanson, Brittney Palmer, Arianny Celeste and Chrissy Blair pose for pictures . Vanessa and Brittney introduce the first round of the respective fights during UFC 184 in Los Angeles . Holly Holm (right) made a winning debut with a split-decision victory over Raquel Pennington . Holm moved from a boxing career to mixed martial arts and remains unbeaten . Pennington lands a left hand on Holm as she battled hard only to lose by split decision . Actresses Mandy Moore (left) and Minka Kelly pose for a photograph during the UFC 184 event . Vin Diesel was also at the Staples Center (left) as UFC president Dana White poses with Mark Wahlberg .\"\"\"\n",
    "print(summarize(text_to_summarize))"
   ]
  },
  {
   "cell_type": "code",
   "execution_count": 78,
   "metadata": {
    "colab": {
     "base_uri": "https://localhost:8080/"
    },
    "id": "W3912x1rZIVp",
    "outputId": "7251addc-e901-4d0b-98dc-4e7d0b1eaa20"
   },
   "outputs": [
    {
     "data": {
      "text/plain": [
       "('drive/MyDrive/nlp_data/t5_tokenizer/tokenizer_config.json',\n",
       " 'drive/MyDrive/nlp_data/t5_tokenizer/special_tokens_map.json',\n",
       " 'drive/MyDrive/nlp_data/t5_tokenizer/spiece.model',\n",
       " 'drive/MyDrive/nlp_data/t5_tokenizer/added_tokens.json')"
      ]
     },
     "execution_count": 78,
     "metadata": {},
     "output_type": "execute_result"
    }
   ],
   "source": [
    "# Defining the paths\n",
    "model_save_path = 'drive/MyDrive/nlp_data/t5_model'\n",
    "tokenizer_save_path = 'drive/MyDrive/nlp_data/t5_tokenizer'\n",
    "\n",
    "# Saving the model\n",
    "model.save_pretrained(model_save_path)\n",
    "\n",
    "# Save the tokenizer\n",
    "tokenizer.save_pretrained(tokenizer_save_path)"
   ]
  },
  {
   "cell_type": "code",
   "execution_count": 89,
   "metadata": {
    "id": "vE1aoosndsNX"
   },
   "outputs": [],
   "source": [
    "# Testing on the first 500 texts\n",
    "test_df = test_df[:500]\n",
    "test_texts = ['summarize: ' + text.lower() for text in test_df['article']]\n",
    "test_summaries = [summary.lower() for summary in test_df['highlights']]\n",
    "test_encodings = tokenizer(test_texts, return_tensors='tf', padding=True, truncation=True, max_length=512)\n",
    "test_labels = tokenizer(test_summaries, return_tensors='tf', padding=True, truncation=True, max_length=150)\n",
    "test_decoder_input_ids = add_decoder_inputs(test_labels['input_ids'])\n",
    "test_dataset = create_tf_dataset(test_encodings, test_labels['input_ids'], test_decoder_input_ids, batch_size=8)"
   ]
  },
  {
   "cell_type": "code",
   "execution_count": 90,
   "metadata": {
    "colab": {
     "base_uri": "https://localhost:8080/"
    },
    "id": "wwqGRVvdeyj6",
    "outputId": "14e572e9-6a20-478b-cb1b-e2afd6683d4c"
   },
   "outputs": [
    {
     "name": "stdout",
     "output_type": "stream",
     "text": [
      "BLEU score: 0.49675795301243225\n",
      "ROUGE scores:\n",
      "rouge1: {'precision': 0.3807859837681482, 'recall': 0.4054005709934653, 'fmeasure': 0.38417044890931135}\n",
      "rouge2: {'precision': 0.1707466754262482, 'recall': 0.18574002956992702, 'fmeasure': 0.1743312485524215}\n",
      "rougeL: {'precision': 0.27304013767878127, 'recall': 0.2956005579920026, 'fmeasure': 0.27791646851631746}\n"
     ]
    }
   ],
   "source": [
    "# Defining evaluation function\n",
    "def evaluate_model(model, test_dataset, tokenizer):\n",
    "    references = []\n",
    "    predictions = []\n",
    "\n",
    "    for batch in test_dataset:\n",
    "        input_ids = batch[0]['input_ids'].numpy()\n",
    "        labels = batch[1].numpy()\n",
    "\n",
    "        # Generating summaries from the model\n",
    "        output = model.generate(input_ids, max_length=150, num_beams=4, length_penalty=2.0, early_stopping=True)\n",
    "        output_decoded = tokenizer.batch_decode(output, skip_special_tokens=True)\n",
    "\n",
    "        # Converting labels to text\n",
    "        labels_decoded = tokenizer.batch_decode(labels, skip_special_tokens=True)\n",
    "\n",
    "        # Collecting references and predictions for calculating metrics\n",
    "        references.extend([[ref] for ref in labels_decoded])\n",
    "        predictions.extend(output_decoded)\n",
    "\n",
    "    # Calculating BLEU score\n",
    "    bleu_score = corpus_bleu(references, predictions)\n",
    "\n",
    "    # Calculating ROUGE scores\n",
    "    scorer = rouge_scorer.RougeScorer(['rouge1', 'rouge2', 'rougeL'], use_stemmer=True)\n",
    "    rouge_scores = {'rouge1': [], 'rouge2': [], 'rougeL': []}\n",
    "\n",
    "    for ref, pred in zip(references, predictions):\n",
    "        scores = scorer.score(ref[0], pred)\n",
    "        for key in scores:\n",
    "            rouge_scores[key].append(scores[key])\n",
    "\n",
    "    # Calculating average ROUGE scores of every prediction\n",
    "    avg_rouge_scores = {key: {\n",
    "        'precision': sum(score.precision for score in rouge_scores[key]) / len(rouge_scores[key]),\n",
    "        'recall': sum(score.recall for score in rouge_scores[key]) / len(rouge_scores[key]),\n",
    "        'fmeasure': sum(score.fmeasure for score in rouge_scores[key]) / len(rouge_scores[key])\n",
    "    } for key in rouge_scores}\n",
    "\n",
    "    return bleu_score, avg_rouge_scores\n",
    "\n",
    "# Evaluating the model\n",
    "bleu_score, avg_rouge_scores = evaluate_model(model, test_dataset, tokenizer)\n",
    "print(f\"BLEU score: {bleu_score}\")\n",
    "print(f\"ROUGE scores:\")\n",
    "for rouge_type, score in avg_rouge_scores.items():\n",
    "    print(f\"{rouge_type}: {score}\")"
   ]
  },
  {
   "cell_type": "code",
   "execution_count": 9,
   "metadata": {},
   "outputs": [
    {
     "name": "stdout",
     "output_type": "stream",
     "text": [
      "[{'rouge-1': {'r': 0.20512820512820512, 'p': 0.24242424242424243, 'f': 0.22222221725694455}, 'rouge-2': {'r': 0.06666666666666667, 'p': 0.06976744186046512, 'f': 0.0681818131844012}, 'rouge-l': {'r': 0.20512820512820512, 'p': 0.24242424242424243, 'f': 0.22222221725694455}}]\n"
     ]
    }
   ],
   "source": [
    "# new calculation using a different library\n",
    "from rouge import Rouge\n",
    "\n",
    "reference_summary = \"\"\"Ronda Rousey submitted Cat Zingano via armbar inside 14 seconds .\n",
    "Rousey made a successful fifth defence of her bantamweight title .\n",
    "The finish is fastest in a UFC title fight and joint-fastest of any UFC fight .\n",
    "Holly Holm beat Raquel Pennington by split decision on her debut .\"\"\"\n",
    "\n",
    "generated_summary = \"\"\"ronda rousey beat cat zingano in 14 seconds at staples center in los angeles. \n",
    "the bantamweight champion was expected to face the toughest examination of her reign as bantamweight champion. \n",
    "rousey landed on her head but the champion gracefully flipped zingano on to her back.\"\"\"\n",
    "\n",
    "# Initializing the ROUGE object\n",
    "rouge = Rouge()\n",
    "# Calculating ROUGE score for the generated summary  against reference summary\n",
    "scores = rouge.get_scores(generated_summary, reference_summary)\n",
    "# Printing the results\n",
    "print(scores)"
   ]
  }
 ],
 "metadata": {
  "accelerator": "GPU",
  "colab": {
   "gpuType": "T4",
   "provenance": []
  },
  "kernelspec": {
   "display_name": "Python 3 (ipykernel)",
   "language": "python",
   "name": "python3"
  },
  "language_info": {
   "codemirror_mode": {
    "name": "ipython",
    "version": 3
   },
   "file_extension": ".py",
   "mimetype": "text/x-python",
   "name": "python",
   "nbconvert_exporter": "python",
   "pygments_lexer": "ipython3",
   "version": "3.11.5"
  }
 },
 "nbformat": 4,
 "nbformat_minor": 4
}
