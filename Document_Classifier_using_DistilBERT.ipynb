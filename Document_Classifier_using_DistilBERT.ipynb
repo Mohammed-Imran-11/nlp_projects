{
 "cells": [
  {
   "cell_type": "markdown",
   "metadata": {},
   "source": [
    "### Importing Required Libraries"
   ]
  },
  {
   "cell_type": "code",
   "execution_count": 31,
   "metadata": {
    "executionInfo": {
     "elapsed": 708,
     "status": "ok",
     "timestamp": 1719323110372,
     "user": {
      "displayName": "Mohammed Imran",
      "userId": "13573663846275111308"
     },
     "user_tz": -330
    },
    "id": "Ii0Vh9u2t0Ib"
   },
   "outputs": [],
   "source": [
    "import pandas as pd\n",
    "import warnings\n",
    "warnings.filterwarnings('ignore')\n",
    "from transformers import DistilBertTokenizer\n",
    "from transformers import TFDistilBertForSequenceClassification\n",
    "import tensorflow as tf\n",
    "import pandas as pd\n",
    "from sklearn.model_selection import train_test_split\n",
    "import json\n",
    "import gc"
   ]
  },
  {
   "cell_type": "markdown",
   "metadata": {},
   "source": [
    "### Loading the data"
   ]
  },
  {
   "cell_type": "code",
   "execution_count": 2,
   "metadata": {
    "executionInfo": {
     "elapsed": 23,
     "status": "ok",
     "timestamp": 1719321846716,
     "user": {
      "displayName": "Mohammed Imran",
      "userId": "13573663846275111308"
     },
     "user_tz": -330
    },
    "id": "4GiblstiuKt1"
   },
   "outputs": [],
   "source": [
    "df = pd.read_csv('bbc_data.csv')"
   ]
  },
  {
   "cell_type": "code",
   "execution_count": 3,
   "metadata": {
    "colab": {
     "base_uri": "https://localhost:8080/",
     "height": 112
    },
    "executionInfo": {
     "elapsed": 22,
     "status": "ok",
     "timestamp": 1719321846716,
     "user": {
      "displayName": "Mohammed Imran",
      "userId": "13573663846275111308"
     },
     "user_tz": -330
    },
    "id": "IBQn2DzCuO1z",
    "outputId": "cebe7749-246e-4ba8-d7eb-2e845964e76c"
   },
   "outputs": [
    {
     "data": {
      "application/vnd.google.colaboratory.intrinsic+json": {
       "summary": "{\n  \"name\": \"df\",\n  \"rows\": 2225,\n  \"fields\": [\n    {\n      \"column\": \"data\",\n      \"properties\": {\n        \"dtype\": \"string\",\n        \"num_unique_values\": 2126,\n        \"samples\": [\n          \"Media seek Jackson juror notes  Reporters covering singer Michael Jacksons trial in California have asked to see questionnaires completed by potential jurors.  Lawyers for news organisations said it was \\\"really vital\\\" for the responses of 250 potential jurors to be made public \\\"to serve as a check on the process\\\". Santa Barbara County Superior Court is due to consider the request on Monday. Mr Jackson denies child molestation. It is estimated his trial will cost Santa Barbara county up to $4m (xc2xa32.13m).  Meanwhile Michael Jacksons mother has said she is \\\"100% certain\\\" her son did not commit the child abuse charges he faces. The court is currently selecting 12 jurors and eight stand-by jurors for the trial, a process delayed until at least Thursday after a member of the stars legal team was hit by family illness. Defence lawyers argued against the bid by Associated Press and other news organisations to have potential jurors responses made public.  \\\"The release of the completed jury questionnaires does not serve any purpose other than to add to the sensationalist coverage of this case,\\\" a motion by Mr Jacksons lawyers stated. The estimated total costs of the trial, expected to last five months, range from $2.5m (xc2xa31.33m) to $4m (xc2xa32.13m) of local taxpayers money. Those estimates do not include costs to the city of Santa Maria, the Superior Court or for the investigation and prosecution of the case. The cost of security and other needs around the courthouse has been estimated at $40,000 (xc2xa321,000) per day, said Jason Stilwell, a special projects manager at the county administrators office.  Mr Jackson, 46, denies plying a boy with alcohol and molesting him. His mother Katherine Jackson told US TV network Fox News on Sunday that her pop star son told her he was innocent. \\\"I believe that for one reason - I know his character,\\\" she said. \\\"He loves children. You dont molest anything that you love.\\\" Describing Mr Jackson as \\\"a good person\\\", the mother-of-nine said she feared he would not be given a fair trial. \\\"I cant sleep thinking about what these wicked people might try to do to him,\\\" she said. \",\n          \"Game firm holds cast auditions  Video game firm Bioware is to hold open auditions for people to become cast members for future games.  The company, which makes role playing games such as Knights of the Old Republic and Neverwinter Nights, is seeking people aged 18 to 99. The Canada-based company says it was looking for \\\"a wide variety of people to use as face models for characters\\\". Everyone chosen to appear in a video game will receive a performers fee for the use of their image. The company is inviting people to come along to a shopping mall in West Edmonton, Alberta, on Friday and Saturday, bringing along a piece of photo identification.  \\\"There are hundreds and hundreds of characters in a typical Bioware game,\\\" said Shauna Perry, Biowares audio and external resources producer. \\\"Those people live in any city and village and so we need ordinary people, people with interesting faces.\\\" She added: \\\"Not everyone is a model in the world so we dont want just models in our games.\\\" People chosen to appear in a game will have their head scanned in three dimensions. Hundreds of photos of the persons head are taken so that a model of the head can be generated in 3D. \\\"The 3D model will look exactly like the person - its really quite incredible how detailed they are,\\\" said Ms Perry. She said chosen participants will have no control over how the image is used in a computer game. \\\"We cannot give people any control over how the images are used. \\\"But their face could be used in multiple games - so they could be the hero in one, the villain in another and just a merchant in a third.\\\" \",\n          \"Citizenship event for 18s touted  Citizenship ceremonies could be introduced for people celebrating their 18th birthday, Charles Clarke has said.  The idea will be tried as part of an overhaul of the way government approaches \\\"inclusive citizenship\\\" particularly for ethnic minorities. A pilot scheme based on ceremonies in Australia will start in October. Mr Clarke said it would be a way of recognising young people reaching their voting age when they also gain greater independence from parents. Britains young black and Asian people are to be encouraged to learn about the nations heritage as part of the governments new race strategy which will also target specific issues within different ethnic minority groups. Officials say the home secretary wants young people to feel they belong and to understand their \\\"other cultural identities\\\" alongside being British. The launch follows a row about the role of faith schools in Britain. On Monday school inspection chief David Bell, accused some Islamic schools of failing to teach pupils about their obligations to British society.  The Muslim Council of Britain said Ofsted boss Mr Bells comments were \\\"highly irresponsible\\\". The Home Office started work on its Community Cohesion and Race Equality Strategy last year and the outcome, launched on Wednesday, is called Improving Opportunity, Strengthening Society. It is aimed at tackling racism, exclusion, segregation and the rise in political and religious extremism. \\\"It represents a move away from the one-size-fits-all approach to focus on specifics within cultural groups,\\\" said a Home Office spokesman. \\\"It is not right to say that if you are from a black or ethnic minority group you must be disadvantaged.\\\" The spokesman highlighted specific issues that affect particular communities - for example people of south Asian origin tend to suffer from a high incidence of heart disease.  \\\"It is about drilling down and focusing on these sorts of problems,\\\" the spokesman added. Launching the initiative Mr Clarke said enormous progress had been made on race issues in recent years. He added: \\\"But while many members of black and minority ethnic communities are thriving, some may still find it harder to succeed in employment or gain access to healthcare, education or housing. \\\"This strategy sets out the governments commitment to doing more to identify and respond to the specific needs of minorities in our society.\\\" Some 8% of the UK population described themselves as coming from a non-white ethnic minority in the 2001 Census.  The Downing Street Strategy Unit in 2003 said people from Indian and Chinese backgrounds were doing well on average, often outperforming white people in education and earnings. But those of Pakistani, Bangladeshi and black Caribbean origin were significantly more likely to be unemployed and earn less than whites, it said. The Home Office wants more initiatives which try to promote a sense of belonging by encouraging young people to take part in voluntary work. The programmes are designed to support the citizenship lessons already taking place in schools. \"\n        ],\n        \"semantic_type\": \"\",\n        \"description\": \"\"\n      }\n    },\n    {\n      \"column\": \"labels\",\n      \"properties\": {\n        \"dtype\": \"category\",\n        \"num_unique_values\": 5,\n        \"samples\": [\n          \"business\",\n          \"tech\",\n          \"sport\"\n        ],\n        \"semantic_type\": \"\",\n        \"description\": \"\"\n      }\n    }\n  ]\n}",
       "type": "dataframe",
       "variable_name": "df"
      },
      "text/html": [
       "\n",
       "  <div id=\"df-60359c8d-214a-4945-8111-c114fb17adbe\" class=\"colab-df-container\">\n",
       "    <div>\n",
       "<style scoped>\n",
       "    .dataframe tbody tr th:only-of-type {\n",
       "        vertical-align: middle;\n",
       "    }\n",
       "\n",
       "    .dataframe tbody tr th {\n",
       "        vertical-align: top;\n",
       "    }\n",
       "\n",
       "    .dataframe thead th {\n",
       "        text-align: right;\n",
       "    }\n",
       "</style>\n",
       "<table border=\"1\" class=\"dataframe\">\n",
       "  <thead>\n",
       "    <tr style=\"text-align: right;\">\n",
       "      <th></th>\n",
       "      <th>data</th>\n",
       "      <th>labels</th>\n",
       "    </tr>\n",
       "  </thead>\n",
       "  <tbody>\n",
       "    <tr>\n",
       "      <th>0</th>\n",
       "      <td>Musicians to tackle US red tape  Musicians gro...</td>\n",
       "      <td>entertainment</td>\n",
       "    </tr>\n",
       "    <tr>\n",
       "      <th>1</th>\n",
       "      <td>U2s desire to be number one  U2, who have won ...</td>\n",
       "      <td>entertainment</td>\n",
       "    </tr>\n",
       "  </tbody>\n",
       "</table>\n",
       "</div>\n",
       "    <div class=\"colab-df-buttons\">\n",
       "\n",
       "  <div class=\"colab-df-container\">\n",
       "    <button class=\"colab-df-convert\" onclick=\"convertToInteractive('df-60359c8d-214a-4945-8111-c114fb17adbe')\"\n",
       "            title=\"Convert this dataframe to an interactive table.\"\n",
       "            style=\"display:none;\">\n",
       "\n",
       "  <svg xmlns=\"http://www.w3.org/2000/svg\" height=\"24px\" viewBox=\"0 -960 960 960\">\n",
       "    <path d=\"M120-120v-720h720v720H120Zm60-500h600v-160H180v160Zm220 220h160v-160H400v160Zm0 220h160v-160H400v160ZM180-400h160v-160H180v160Zm440 0h160v-160H620v160ZM180-180h160v-160H180v160Zm440 0h160v-160H620v160Z\"/>\n",
       "  </svg>\n",
       "    </button>\n",
       "\n",
       "  <style>\n",
       "    .colab-df-container {\n",
       "      display:flex;\n",
       "      gap: 12px;\n",
       "    }\n",
       "\n",
       "    .colab-df-convert {\n",
       "      background-color: #E8F0FE;\n",
       "      border: none;\n",
       "      border-radius: 50%;\n",
       "      cursor: pointer;\n",
       "      display: none;\n",
       "      fill: #1967D2;\n",
       "      height: 32px;\n",
       "      padding: 0 0 0 0;\n",
       "      width: 32px;\n",
       "    }\n",
       "\n",
       "    .colab-df-convert:hover {\n",
       "      background-color: #E2EBFA;\n",
       "      box-shadow: 0px 1px 2px rgba(60, 64, 67, 0.3), 0px 1px 3px 1px rgba(60, 64, 67, 0.15);\n",
       "      fill: #174EA6;\n",
       "    }\n",
       "\n",
       "    .colab-df-buttons div {\n",
       "      margin-bottom: 4px;\n",
       "    }\n",
       "\n",
       "    [theme=dark] .colab-df-convert {\n",
       "      background-color: #3B4455;\n",
       "      fill: #D2E3FC;\n",
       "    }\n",
       "\n",
       "    [theme=dark] .colab-df-convert:hover {\n",
       "      background-color: #434B5C;\n",
       "      box-shadow: 0px 1px 3px 1px rgba(0, 0, 0, 0.15);\n",
       "      filter: drop-shadow(0px 1px 2px rgba(0, 0, 0, 0.3));\n",
       "      fill: #FFFFFF;\n",
       "    }\n",
       "  </style>\n",
       "\n",
       "    <script>\n",
       "      const buttonEl =\n",
       "        document.querySelector('#df-60359c8d-214a-4945-8111-c114fb17adbe button.colab-df-convert');\n",
       "      buttonEl.style.display =\n",
       "        google.colab.kernel.accessAllowed ? 'block' : 'none';\n",
       "\n",
       "      async function convertToInteractive(key) {\n",
       "        const element = document.querySelector('#df-60359c8d-214a-4945-8111-c114fb17adbe');\n",
       "        const dataTable =\n",
       "          await google.colab.kernel.invokeFunction('convertToInteractive',\n",
       "                                                    [key], {});\n",
       "        if (!dataTable) return;\n",
       "\n",
       "        const docLinkHtml = 'Like what you see? Visit the ' +\n",
       "          '<a target=\"_blank\" href=https://colab.research.google.com/notebooks/data_table.ipynb>data table notebook</a>'\n",
       "          + ' to learn more about interactive tables.';\n",
       "        element.innerHTML = '';\n",
       "        dataTable['output_type'] = 'display_data';\n",
       "        await google.colab.output.renderOutput(dataTable, element);\n",
       "        const docLink = document.createElement('div');\n",
       "        docLink.innerHTML = docLinkHtml;\n",
       "        element.appendChild(docLink);\n",
       "      }\n",
       "    </script>\n",
       "  </div>\n",
       "\n",
       "\n",
       "<div id=\"df-c7cc991d-3b88-49a0-8145-23bda143b253\">\n",
       "  <button class=\"colab-df-quickchart\" onclick=\"quickchart('df-c7cc991d-3b88-49a0-8145-23bda143b253')\"\n",
       "            title=\"Suggest charts\"\n",
       "            style=\"display:none;\">\n",
       "\n",
       "<svg xmlns=\"http://www.w3.org/2000/svg\" height=\"24px\"viewBox=\"0 0 24 24\"\n",
       "     width=\"24px\">\n",
       "    <g>\n",
       "        <path d=\"M19 3H5c-1.1 0-2 .9-2 2v14c0 1.1.9 2 2 2h14c1.1 0 2-.9 2-2V5c0-1.1-.9-2-2-2zM9 17H7v-7h2v7zm4 0h-2V7h2v10zm4 0h-2v-4h2v4z\"/>\n",
       "    </g>\n",
       "</svg>\n",
       "  </button>\n",
       "\n",
       "<style>\n",
       "  .colab-df-quickchart {\n",
       "      --bg-color: #E8F0FE;\n",
       "      --fill-color: #1967D2;\n",
       "      --hover-bg-color: #E2EBFA;\n",
       "      --hover-fill-color: #174EA6;\n",
       "      --disabled-fill-color: #AAA;\n",
       "      --disabled-bg-color: #DDD;\n",
       "  }\n",
       "\n",
       "  [theme=dark] .colab-df-quickchart {\n",
       "      --bg-color: #3B4455;\n",
       "      --fill-color: #D2E3FC;\n",
       "      --hover-bg-color: #434B5C;\n",
       "      --hover-fill-color: #FFFFFF;\n",
       "      --disabled-bg-color: #3B4455;\n",
       "      --disabled-fill-color: #666;\n",
       "  }\n",
       "\n",
       "  .colab-df-quickchart {\n",
       "    background-color: var(--bg-color);\n",
       "    border: none;\n",
       "    border-radius: 50%;\n",
       "    cursor: pointer;\n",
       "    display: none;\n",
       "    fill: var(--fill-color);\n",
       "    height: 32px;\n",
       "    padding: 0;\n",
       "    width: 32px;\n",
       "  }\n",
       "\n",
       "  .colab-df-quickchart:hover {\n",
       "    background-color: var(--hover-bg-color);\n",
       "    box-shadow: 0 1px 2px rgba(60, 64, 67, 0.3), 0 1px 3px 1px rgba(60, 64, 67, 0.15);\n",
       "    fill: var(--button-hover-fill-color);\n",
       "  }\n",
       "\n",
       "  .colab-df-quickchart-complete:disabled,\n",
       "  .colab-df-quickchart-complete:disabled:hover {\n",
       "    background-color: var(--disabled-bg-color);\n",
       "    fill: var(--disabled-fill-color);\n",
       "    box-shadow: none;\n",
       "  }\n",
       "\n",
       "  .colab-df-spinner {\n",
       "    border: 2px solid var(--fill-color);\n",
       "    border-color: transparent;\n",
       "    border-bottom-color: var(--fill-color);\n",
       "    animation:\n",
       "      spin 1s steps(1) infinite;\n",
       "  }\n",
       "\n",
       "  @keyframes spin {\n",
       "    0% {\n",
       "      border-color: transparent;\n",
       "      border-bottom-color: var(--fill-color);\n",
       "      border-left-color: var(--fill-color);\n",
       "    }\n",
       "    20% {\n",
       "      border-color: transparent;\n",
       "      border-left-color: var(--fill-color);\n",
       "      border-top-color: var(--fill-color);\n",
       "    }\n",
       "    30% {\n",
       "      border-color: transparent;\n",
       "      border-left-color: var(--fill-color);\n",
       "      border-top-color: var(--fill-color);\n",
       "      border-right-color: var(--fill-color);\n",
       "    }\n",
       "    40% {\n",
       "      border-color: transparent;\n",
       "      border-right-color: var(--fill-color);\n",
       "      border-top-color: var(--fill-color);\n",
       "    }\n",
       "    60% {\n",
       "      border-color: transparent;\n",
       "      border-right-color: var(--fill-color);\n",
       "    }\n",
       "    80% {\n",
       "      border-color: transparent;\n",
       "      border-right-color: var(--fill-color);\n",
       "      border-bottom-color: var(--fill-color);\n",
       "    }\n",
       "    90% {\n",
       "      border-color: transparent;\n",
       "      border-bottom-color: var(--fill-color);\n",
       "    }\n",
       "  }\n",
       "</style>\n",
       "\n",
       "  <script>\n",
       "    async function quickchart(key) {\n",
       "      const quickchartButtonEl =\n",
       "        document.querySelector('#' + key + ' button');\n",
       "      quickchartButtonEl.disabled = true;  // To prevent multiple clicks.\n",
       "      quickchartButtonEl.classList.add('colab-df-spinner');\n",
       "      try {\n",
       "        const charts = await google.colab.kernel.invokeFunction(\n",
       "            'suggestCharts', [key], {});\n",
       "      } catch (error) {\n",
       "        console.error('Error during call to suggestCharts:', error);\n",
       "      }\n",
       "      quickchartButtonEl.classList.remove('colab-df-spinner');\n",
       "      quickchartButtonEl.classList.add('colab-df-quickchart-complete');\n",
       "    }\n",
       "    (() => {\n",
       "      let quickchartButtonEl =\n",
       "        document.querySelector('#df-c7cc991d-3b88-49a0-8145-23bda143b253 button');\n",
       "      quickchartButtonEl.style.display =\n",
       "        google.colab.kernel.accessAllowed ? 'block' : 'none';\n",
       "    })();\n",
       "  </script>\n",
       "</div>\n",
       "\n",
       "    </div>\n",
       "  </div>\n"
      ],
      "text/plain": [
       "                                                data         labels\n",
       "0  Musicians to tackle US red tape  Musicians gro...  entertainment\n",
       "1  U2s desire to be number one  U2, who have won ...  entertainment"
      ]
     },
     "execution_count": 3,
     "metadata": {},
     "output_type": "execute_result"
    }
   ],
   "source": [
    "df.head(2)"
   ]
  },
  {
   "cell_type": "code",
   "execution_count": 35,
   "metadata": {
    "colab": {
     "base_uri": "https://localhost:8080/"
    },
    "executionInfo": {
     "elapsed": 851,
     "status": "ok",
     "timestamp": 1719323900034,
     "user": {
      "displayName": "Mohammed Imran",
      "userId": "13573663846275111308"
     },
     "user_tz": -330
    },
    "id": "K_ZyqEBrsKH3",
    "outputId": "19f67580-e02d-43c6-d000-3c32f78bf36a"
   },
   "outputs": [
    {
     "data": {
      "text/plain": [
       "(2225, 3)"
      ]
     },
     "execution_count": 35,
     "metadata": {},
     "output_type": "execute_result"
    }
   ],
   "source": [
    "# shape of the data\n",
    "df.shape"
   ]
  },
  {
   "cell_type": "code",
   "execution_count": 4,
   "metadata": {
    "colab": {
     "base_uri": "https://localhost:8080/"
    },
    "executionInfo": {
     "elapsed": 20,
     "status": "ok",
     "timestamp": 1719321846717,
     "user": {
      "displayName": "Mohammed Imran",
      "userId": "13573663846275111308"
     },
     "user_tz": -330
    },
    "id": "NlZj8shJuQQi",
    "outputId": "8242cea0-9041-445a-9671-4d0507e10ca0"
   },
   "outputs": [
    {
     "data": {
      "text/plain": [
       "array(['entertainment', 'business', 'sport', 'politics', 'tech'],\n",
       "      dtype=object)"
      ]
     },
     "execution_count": 4,
     "metadata": {},
     "output_type": "execute_result"
    }
   ],
   "source": [
    "# Target CLasses\n",
    "df['labels'].unique()"
   ]
  },
  {
   "cell_type": "code",
   "execution_count": 5,
   "metadata": {
    "colab": {
     "base_uri": "https://localhost:8080/",
     "height": 206
    },
    "executionInfo": {
     "elapsed": 18,
     "status": "ok",
     "timestamp": 1719321846717,
     "user": {
      "displayName": "Mohammed Imran",
      "userId": "13573663846275111308"
     },
     "user_tz": -330
    },
    "id": "jDWPtlm6uqRr",
    "outputId": "8b055928-062a-4f2a-e2ba-5a477552e419"
   },
   "outputs": [
    {
     "data": {
      "application/vnd.google.colaboratory.intrinsic+json": {
       "summary": "{\n  \"name\": \"df\",\n  \"rows\": 2225,\n  \"fields\": [\n    {\n      \"column\": \"data\",\n      \"properties\": {\n        \"dtype\": \"string\",\n        \"num_unique_values\": 2126,\n        \"samples\": [\n          \"Media seek Jackson juror notes  Reporters covering singer Michael Jacksons trial in California have asked to see questionnaires completed by potential jurors.  Lawyers for news organisations said it was \\\"really vital\\\" for the responses of 250 potential jurors to be made public \\\"to serve as a check on the process\\\". Santa Barbara County Superior Court is due to consider the request on Monday. Mr Jackson denies child molestation. It is estimated his trial will cost Santa Barbara county up to $4m (xc2xa32.13m).  Meanwhile Michael Jacksons mother has said she is \\\"100% certain\\\" her son did not commit the child abuse charges he faces. The court is currently selecting 12 jurors and eight stand-by jurors for the trial, a process delayed until at least Thursday after a member of the stars legal team was hit by family illness. Defence lawyers argued against the bid by Associated Press and other news organisations to have potential jurors responses made public.  \\\"The release of the completed jury questionnaires does not serve any purpose other than to add to the sensationalist coverage of this case,\\\" a motion by Mr Jacksons lawyers stated. The estimated total costs of the trial, expected to last five months, range from $2.5m (xc2xa31.33m) to $4m (xc2xa32.13m) of local taxpayers money. Those estimates do not include costs to the city of Santa Maria, the Superior Court or for the investigation and prosecution of the case. The cost of security and other needs around the courthouse has been estimated at $40,000 (xc2xa321,000) per day, said Jason Stilwell, a special projects manager at the county administrators office.  Mr Jackson, 46, denies plying a boy with alcohol and molesting him. His mother Katherine Jackson told US TV network Fox News on Sunday that her pop star son told her he was innocent. \\\"I believe that for one reason - I know his character,\\\" she said. \\\"He loves children. You dont molest anything that you love.\\\" Describing Mr Jackson as \\\"a good person\\\", the mother-of-nine said she feared he would not be given a fair trial. \\\"I cant sleep thinking about what these wicked people might try to do to him,\\\" she said. \",\n          \"Game firm holds cast auditions  Video game firm Bioware is to hold open auditions for people to become cast members for future games.  The company, which makes role playing games such as Knights of the Old Republic and Neverwinter Nights, is seeking people aged 18 to 99. The Canada-based company says it was looking for \\\"a wide variety of people to use as face models for characters\\\". Everyone chosen to appear in a video game will receive a performers fee for the use of their image. The company is inviting people to come along to a shopping mall in West Edmonton, Alberta, on Friday and Saturday, bringing along a piece of photo identification.  \\\"There are hundreds and hundreds of characters in a typical Bioware game,\\\" said Shauna Perry, Biowares audio and external resources producer. \\\"Those people live in any city and village and so we need ordinary people, people with interesting faces.\\\" She added: \\\"Not everyone is a model in the world so we dont want just models in our games.\\\" People chosen to appear in a game will have their head scanned in three dimensions. Hundreds of photos of the persons head are taken so that a model of the head can be generated in 3D. \\\"The 3D model will look exactly like the person - its really quite incredible how detailed they are,\\\" said Ms Perry. She said chosen participants will have no control over how the image is used in a computer game. \\\"We cannot give people any control over how the images are used. \\\"But their face could be used in multiple games - so they could be the hero in one, the villain in another and just a merchant in a third.\\\" \",\n          \"Citizenship event for 18s touted  Citizenship ceremonies could be introduced for people celebrating their 18th birthday, Charles Clarke has said.  The idea will be tried as part of an overhaul of the way government approaches \\\"inclusive citizenship\\\" particularly for ethnic minorities. A pilot scheme based on ceremonies in Australia will start in October. Mr Clarke said it would be a way of recognising young people reaching their voting age when they also gain greater independence from parents. Britains young black and Asian people are to be encouraged to learn about the nations heritage as part of the governments new race strategy which will also target specific issues within different ethnic minority groups. Officials say the home secretary wants young people to feel they belong and to understand their \\\"other cultural identities\\\" alongside being British. The launch follows a row about the role of faith schools in Britain. On Monday school inspection chief David Bell, accused some Islamic schools of failing to teach pupils about their obligations to British society.  The Muslim Council of Britain said Ofsted boss Mr Bells comments were \\\"highly irresponsible\\\". The Home Office started work on its Community Cohesion and Race Equality Strategy last year and the outcome, launched on Wednesday, is called Improving Opportunity, Strengthening Society. It is aimed at tackling racism, exclusion, segregation and the rise in political and religious extremism. \\\"It represents a move away from the one-size-fits-all approach to focus on specifics within cultural groups,\\\" said a Home Office spokesman. \\\"It is not right to say that if you are from a black or ethnic minority group you must be disadvantaged.\\\" The spokesman highlighted specific issues that affect particular communities - for example people of south Asian origin tend to suffer from a high incidence of heart disease.  \\\"It is about drilling down and focusing on these sorts of problems,\\\" the spokesman added. Launching the initiative Mr Clarke said enormous progress had been made on race issues in recent years. He added: \\\"But while many members of black and minority ethnic communities are thriving, some may still find it harder to succeed in employment or gain access to healthcare, education or housing. \\\"This strategy sets out the governments commitment to doing more to identify and respond to the specific needs of minorities in our society.\\\" Some 8% of the UK population described themselves as coming from a non-white ethnic minority in the 2001 Census.  The Downing Street Strategy Unit in 2003 said people from Indian and Chinese backgrounds were doing well on average, often outperforming white people in education and earnings. But those of Pakistani, Bangladeshi and black Caribbean origin were significantly more likely to be unemployed and earn less than whites, it said. The Home Office wants more initiatives which try to promote a sense of belonging by encouraging young people to take part in voluntary work. The programmes are designed to support the citizenship lessons already taking place in schools. \"\n        ],\n        \"semantic_type\": \"\",\n        \"description\": \"\"\n      }\n    },\n    {\n      \"column\": \"labels\",\n      \"properties\": {\n        \"dtype\": \"category\",\n        \"num_unique_values\": 5,\n        \"samples\": [\n          \"business\",\n          \"tech\",\n          \"sport\"\n        ],\n        \"semantic_type\": \"\",\n        \"description\": \"\"\n      }\n    },\n    {\n      \"column\": \"encoded_labels\",\n      \"properties\": {\n        \"dtype\": \"int8\",\n        \"num_unique_values\": 5,\n        \"samples\": [\n          0,\n          4,\n          3\n        ],\n        \"semantic_type\": \"\",\n        \"description\": \"\"\n      }\n    }\n  ]\n}",
       "type": "dataframe",
       "variable_name": "df"
      },
      "text/html": [
       "\n",
       "  <div id=\"df-9dcba57a-ebc1-4c03-aab2-1aa9813b1bda\" class=\"colab-df-container\">\n",
       "    <div>\n",
       "<style scoped>\n",
       "    .dataframe tbody tr th:only-of-type {\n",
       "        vertical-align: middle;\n",
       "    }\n",
       "\n",
       "    .dataframe tbody tr th {\n",
       "        vertical-align: top;\n",
       "    }\n",
       "\n",
       "    .dataframe thead th {\n",
       "        text-align: right;\n",
       "    }\n",
       "</style>\n",
       "<table border=\"1\" class=\"dataframe\">\n",
       "  <thead>\n",
       "    <tr style=\"text-align: right;\">\n",
       "      <th></th>\n",
       "      <th>data</th>\n",
       "      <th>labels</th>\n",
       "      <th>encoded_labels</th>\n",
       "    </tr>\n",
       "  </thead>\n",
       "  <tbody>\n",
       "    <tr>\n",
       "      <th>0</th>\n",
       "      <td>Musicians to tackle US red tape  Musicians gro...</td>\n",
       "      <td>entertainment</td>\n",
       "      <td>1</td>\n",
       "    </tr>\n",
       "    <tr>\n",
       "      <th>1</th>\n",
       "      <td>U2s desire to be number one  U2, who have won ...</td>\n",
       "      <td>entertainment</td>\n",
       "      <td>1</td>\n",
       "    </tr>\n",
       "    <tr>\n",
       "      <th>2</th>\n",
       "      <td>Rocker Doherty in on-stage fight  Rock singer ...</td>\n",
       "      <td>entertainment</td>\n",
       "      <td>1</td>\n",
       "    </tr>\n",
       "    <tr>\n",
       "      <th>3</th>\n",
       "      <td>Snicket tops US box office chart  The film ada...</td>\n",
       "      <td>entertainment</td>\n",
       "      <td>1</td>\n",
       "    </tr>\n",
       "    <tr>\n",
       "      <th>4</th>\n",
       "      <td>Oceans Twelve raids box office  Oceans Twelve,...</td>\n",
       "      <td>entertainment</td>\n",
       "      <td>1</td>\n",
       "    </tr>\n",
       "  </tbody>\n",
       "</table>\n",
       "</div>\n",
       "    <div class=\"colab-df-buttons\">\n",
       "\n",
       "  <div class=\"colab-df-container\">\n",
       "    <button class=\"colab-df-convert\" onclick=\"convertToInteractive('df-9dcba57a-ebc1-4c03-aab2-1aa9813b1bda')\"\n",
       "            title=\"Convert this dataframe to an interactive table.\"\n",
       "            style=\"display:none;\">\n",
       "\n",
       "  <svg xmlns=\"http://www.w3.org/2000/svg\" height=\"24px\" viewBox=\"0 -960 960 960\">\n",
       "    <path d=\"M120-120v-720h720v720H120Zm60-500h600v-160H180v160Zm220 220h160v-160H400v160Zm0 220h160v-160H400v160ZM180-400h160v-160H180v160Zm440 0h160v-160H620v160ZM180-180h160v-160H180v160Zm440 0h160v-160H620v160Z\"/>\n",
       "  </svg>\n",
       "    </button>\n",
       "\n",
       "  <style>\n",
       "    .colab-df-container {\n",
       "      display:flex;\n",
       "      gap: 12px;\n",
       "    }\n",
       "\n",
       "    .colab-df-convert {\n",
       "      background-color: #E8F0FE;\n",
       "      border: none;\n",
       "      border-radius: 50%;\n",
       "      cursor: pointer;\n",
       "      display: none;\n",
       "      fill: #1967D2;\n",
       "      height: 32px;\n",
       "      padding: 0 0 0 0;\n",
       "      width: 32px;\n",
       "    }\n",
       "\n",
       "    .colab-df-convert:hover {\n",
       "      background-color: #E2EBFA;\n",
       "      box-shadow: 0px 1px 2px rgba(60, 64, 67, 0.3), 0px 1px 3px 1px rgba(60, 64, 67, 0.15);\n",
       "      fill: #174EA6;\n",
       "    }\n",
       "\n",
       "    .colab-df-buttons div {\n",
       "      margin-bottom: 4px;\n",
       "    }\n",
       "\n",
       "    [theme=dark] .colab-df-convert {\n",
       "      background-color: #3B4455;\n",
       "      fill: #D2E3FC;\n",
       "    }\n",
       "\n",
       "    [theme=dark] .colab-df-convert:hover {\n",
       "      background-color: #434B5C;\n",
       "      box-shadow: 0px 1px 3px 1px rgba(0, 0, 0, 0.15);\n",
       "      filter: drop-shadow(0px 1px 2px rgba(0, 0, 0, 0.3));\n",
       "      fill: #FFFFFF;\n",
       "    }\n",
       "  </style>\n",
       "\n",
       "    <script>\n",
       "      const buttonEl =\n",
       "        document.querySelector('#df-9dcba57a-ebc1-4c03-aab2-1aa9813b1bda button.colab-df-convert');\n",
       "      buttonEl.style.display =\n",
       "        google.colab.kernel.accessAllowed ? 'block' : 'none';\n",
       "\n",
       "      async function convertToInteractive(key) {\n",
       "        const element = document.querySelector('#df-9dcba57a-ebc1-4c03-aab2-1aa9813b1bda');\n",
       "        const dataTable =\n",
       "          await google.colab.kernel.invokeFunction('convertToInteractive',\n",
       "                                                    [key], {});\n",
       "        if (!dataTable) return;\n",
       "\n",
       "        const docLinkHtml = 'Like what you see? Visit the ' +\n",
       "          '<a target=\"_blank\" href=https://colab.research.google.com/notebooks/data_table.ipynb>data table notebook</a>'\n",
       "          + ' to learn more about interactive tables.';\n",
       "        element.innerHTML = '';\n",
       "        dataTable['output_type'] = 'display_data';\n",
       "        await google.colab.output.renderOutput(dataTable, element);\n",
       "        const docLink = document.createElement('div');\n",
       "        docLink.innerHTML = docLinkHtml;\n",
       "        element.appendChild(docLink);\n",
       "      }\n",
       "    </script>\n",
       "  </div>\n",
       "\n",
       "\n",
       "<div id=\"df-5a811697-4235-4cce-aacd-5be1d8d38cc3\">\n",
       "  <button class=\"colab-df-quickchart\" onclick=\"quickchart('df-5a811697-4235-4cce-aacd-5be1d8d38cc3')\"\n",
       "            title=\"Suggest charts\"\n",
       "            style=\"display:none;\">\n",
       "\n",
       "<svg xmlns=\"http://www.w3.org/2000/svg\" height=\"24px\"viewBox=\"0 0 24 24\"\n",
       "     width=\"24px\">\n",
       "    <g>\n",
       "        <path d=\"M19 3H5c-1.1 0-2 .9-2 2v14c0 1.1.9 2 2 2h14c1.1 0 2-.9 2-2V5c0-1.1-.9-2-2-2zM9 17H7v-7h2v7zm4 0h-2V7h2v10zm4 0h-2v-4h2v4z\"/>\n",
       "    </g>\n",
       "</svg>\n",
       "  </button>\n",
       "\n",
       "<style>\n",
       "  .colab-df-quickchart {\n",
       "      --bg-color: #E8F0FE;\n",
       "      --fill-color: #1967D2;\n",
       "      --hover-bg-color: #E2EBFA;\n",
       "      --hover-fill-color: #174EA6;\n",
       "      --disabled-fill-color: #AAA;\n",
       "      --disabled-bg-color: #DDD;\n",
       "  }\n",
       "\n",
       "  [theme=dark] .colab-df-quickchart {\n",
       "      --bg-color: #3B4455;\n",
       "      --fill-color: #D2E3FC;\n",
       "      --hover-bg-color: #434B5C;\n",
       "      --hover-fill-color: #FFFFFF;\n",
       "      --disabled-bg-color: #3B4455;\n",
       "      --disabled-fill-color: #666;\n",
       "  }\n",
       "\n",
       "  .colab-df-quickchart {\n",
       "    background-color: var(--bg-color);\n",
       "    border: none;\n",
       "    border-radius: 50%;\n",
       "    cursor: pointer;\n",
       "    display: none;\n",
       "    fill: var(--fill-color);\n",
       "    height: 32px;\n",
       "    padding: 0;\n",
       "    width: 32px;\n",
       "  }\n",
       "\n",
       "  .colab-df-quickchart:hover {\n",
       "    background-color: var(--hover-bg-color);\n",
       "    box-shadow: 0 1px 2px rgba(60, 64, 67, 0.3), 0 1px 3px 1px rgba(60, 64, 67, 0.15);\n",
       "    fill: var(--button-hover-fill-color);\n",
       "  }\n",
       "\n",
       "  .colab-df-quickchart-complete:disabled,\n",
       "  .colab-df-quickchart-complete:disabled:hover {\n",
       "    background-color: var(--disabled-bg-color);\n",
       "    fill: var(--disabled-fill-color);\n",
       "    box-shadow: none;\n",
       "  }\n",
       "\n",
       "  .colab-df-spinner {\n",
       "    border: 2px solid var(--fill-color);\n",
       "    border-color: transparent;\n",
       "    border-bottom-color: var(--fill-color);\n",
       "    animation:\n",
       "      spin 1s steps(1) infinite;\n",
       "  }\n",
       "\n",
       "  @keyframes spin {\n",
       "    0% {\n",
       "      border-color: transparent;\n",
       "      border-bottom-color: var(--fill-color);\n",
       "      border-left-color: var(--fill-color);\n",
       "    }\n",
       "    20% {\n",
       "      border-color: transparent;\n",
       "      border-left-color: var(--fill-color);\n",
       "      border-top-color: var(--fill-color);\n",
       "    }\n",
       "    30% {\n",
       "      border-color: transparent;\n",
       "      border-left-color: var(--fill-color);\n",
       "      border-top-color: var(--fill-color);\n",
       "      border-right-color: var(--fill-color);\n",
       "    }\n",
       "    40% {\n",
       "      border-color: transparent;\n",
       "      border-right-color: var(--fill-color);\n",
       "      border-top-color: var(--fill-color);\n",
       "    }\n",
       "    60% {\n",
       "      border-color: transparent;\n",
       "      border-right-color: var(--fill-color);\n",
       "    }\n",
       "    80% {\n",
       "      border-color: transparent;\n",
       "      border-right-color: var(--fill-color);\n",
       "      border-bottom-color: var(--fill-color);\n",
       "    }\n",
       "    90% {\n",
       "      border-color: transparent;\n",
       "      border-bottom-color: var(--fill-color);\n",
       "    }\n",
       "  }\n",
       "</style>\n",
       "\n",
       "  <script>\n",
       "    async function quickchart(key) {\n",
       "      const quickchartButtonEl =\n",
       "        document.querySelector('#' + key + ' button');\n",
       "      quickchartButtonEl.disabled = true;  // To prevent multiple clicks.\n",
       "      quickchartButtonEl.classList.add('colab-df-spinner');\n",
       "      try {\n",
       "        const charts = await google.colab.kernel.invokeFunction(\n",
       "            'suggestCharts', [key], {});\n",
       "      } catch (error) {\n",
       "        console.error('Error during call to suggestCharts:', error);\n",
       "      }\n",
       "      quickchartButtonEl.classList.remove('colab-df-spinner');\n",
       "      quickchartButtonEl.classList.add('colab-df-quickchart-complete');\n",
       "    }\n",
       "    (() => {\n",
       "      let quickchartButtonEl =\n",
       "        document.querySelector('#df-5a811697-4235-4cce-aacd-5be1d8d38cc3 button');\n",
       "      quickchartButtonEl.style.display =\n",
       "        google.colab.kernel.accessAllowed ? 'block' : 'none';\n",
       "    })();\n",
       "  </script>\n",
       "</div>\n",
       "\n",
       "    </div>\n",
       "  </div>\n"
      ],
      "text/plain": [
       "                                                data         labels  \\\n",
       "0  Musicians to tackle US red tape  Musicians gro...  entertainment   \n",
       "1  U2s desire to be number one  U2, who have won ...  entertainment   \n",
       "2  Rocker Doherty in on-stage fight  Rock singer ...  entertainment   \n",
       "3  Snicket tops US box office chart  The film ada...  entertainment   \n",
       "4  Oceans Twelve raids box office  Oceans Twelve,...  entertainment   \n",
       "\n",
       "   encoded_labels  \n",
       "0               1  \n",
       "1               1  \n",
       "2               1  \n",
       "3               1  \n",
       "4               1  "
      ]
     },
     "execution_count": 5,
     "metadata": {},
     "output_type": "execute_result"
    }
   ],
   "source": [
    "# ENcoding the Target Variable\n",
    "df['encoded_labels'] = df['labels'].astype('category').cat.codes\n",
    "df.head()"
   ]
  },
  {
   "cell_type": "code",
   "execution_count": 6,
   "metadata": {
    "colab": {
     "base_uri": "https://localhost:8080/"
    },
    "executionInfo": {
     "elapsed": 17,
     "status": "ok",
     "timestamp": 1719321846717,
     "user": {
      "displayName": "Mohammed Imran",
      "userId": "13573663846275111308"
     },
     "user_tz": -330
    },
    "id": "rwwfu3WefUEs",
    "outputId": "417c3e9a-7a36-4098-b121-efd49e70bec6"
   },
   "outputs": [
    {
     "data": {
      "text/plain": [
       "labels         encoded_labels\n",
       "business       0                 510\n",
       "entertainment  1                 386\n",
       "politics       2                 417\n",
       "sport          3                 511\n",
       "tech           4                 401\n",
       "dtype: int64"
      ]
     },
     "execution_count": 6,
     "metadata": {},
     "output_type": "execute_result"
    }
   ],
   "source": [
    "# Value_counts of each class \n",
    "df.groupby(['labels', 'encoded_labels']).size()"
   ]
  },
  {
   "cell_type": "code",
   "execution_count": 7,
   "metadata": {
    "executionInfo": {
     "elapsed": 15,
     "status": "ok",
     "timestamp": 1719321846717,
     "user": {
      "displayName": "Mohammed Imran",
      "userId": "13573663846275111308"
     },
     "user_tz": -330
    },
    "id": "Z-K4Tc3WuuMj"
   },
   "outputs": [],
   "source": [
    "# Converting the text column to lists\n",
    "data_texts = df[\"data\"].to_list()\n",
    "# data_texts = df[\"data\"]\n",
    "\n",
    "# Converting the labels column to lists\n",
    "data_labels = df[\"encoded_labels\"].to_list()"
   ]
  },
  {
   "cell_type": "code",
   "execution_count": 8,
   "metadata": {
    "executionInfo": {
     "elapsed": 15,
     "status": "ok",
     "timestamp": 1719321846717,
     "user": {
      "displayName": "Mohammed Imran",
      "userId": "13573663846275111308"
     },
     "user_tz": -330
    },
    "id": "se2wdXfbuuFb"
   },
   "outputs": [],
   "source": [
    "#Train and Validation data split\n",
    "train_texts, val_texts, train_labels, val_labels = train_test_split(data_texts, data_labels, test_size=0.2, random_state=0)\n",
    "\n",
    "#Train and Test data split\n",
    "train_texts, test_texts, train_labels, test_labels = train_test_split(train_texts, train_labels, test_size=0.01, random_state=0)"
   ]
  },
  {
   "cell_type": "code",
   "execution_count": 9,
   "metadata": {
    "colab": {
     "base_uri": "https://localhost:8080/"
    },
    "executionInfo": {
     "elapsed": 15,
     "status": "ok",
     "timestamp": 1719321846717,
     "user": {
      "displayName": "Mohammed Imran",
      "userId": "13573663846275111308"
     },
     "user_tz": -330
    },
    "id": "yUN_umyIfGep",
    "outputId": "4cccb5ca-3dc8-43d6-d866-5cf84f431a04"
   },
   "outputs": [
    {
     "data": {
      "text/plain": [
       "['Halo fans hope for sequel  Xbox video game Halo 2 has been released in the US on 9 November, with a UK release two days later. Why is the game among the most anticipated of all time?  Halo is considered by many video game pundits to be one of the finest examples of interactive entertainment ever produced and more than 1.5 million people worldwide have pre-ordered the sequel. A science fiction epic, Halo centred the action on a human cyborg, controlled by the player, who had to save his crew from an alien horde after a crash landing on a strange and exotic world contained on the interior surface of a giant ring in space. Remembrance of Things Past it was not - but as a slice of schlock science fiction inspired by works such as Larry Nivens Ringworld and the film Starship Troopers, it fit the bill perfectly. Halo stood out from a crowd of similar titles - it was graphically impressive, had tremendous audio, using Dolby Digital, a decent storyline, instant playability and impressive physics.  But what marked Halo as a classic were the thousands of details which brought a feeling of polish and the enormously-high production values not usually associated with video gaming.  Produced by Bungie software, renowned for their innovation in gaming, it caused a stir among the gaming fraternity when the developer was bought by Microsoft and became an Xbox exclusive. Claude Errera, editor of fansite Halo.Bungie.Org, said: \"Bungie got everything right. They were really careful to make sure everything worked the way it was supposed to. \"Nothing distracts you when you were playing. There was nothing in Halo that had not been done before but everything in there was as good as it could be.\" He added: \"Graphically it was superior to everything else out there.  \"It also had a depth to it that made it stand out.\" Halo was unusually immersive, sucking the player into the action and blurring the interface between screen and controller. It also capitalised on the growing popularity of LAN gaming in the PC world - for the first time it became easy to link multiple game consoles together, allowing up to 16 players to battle against each other at the same time.  The game instantly cultivated an online following, which continues today with a score of Halo fan websites following every aspect of the sequel, Halo 2. Errera spends three to fours hours a day of his own time maintaining the hugely popular website, which attracts 600,000 page views a day from Halo fans eager for the latest news.  When the Xbox launched on November 15 2001 in the US, Halo was one of the launch titles and had an immediate impact on critics and consumers. \"Halo is the most important launch game for any console ever,\" wrote the influential Edge magazine in its review, giving it a rare 10 out of 10 mark. The game had its critics and while it is not a one-off original as a game, it brought many original touches and flourishes to the genre which have defined all other first person shooters since. \"The first time I played it I just stood there watching the spent shells fall out of my gun,\" said Errera, remarking on the level of detail in the game.  The game also inspired thousands of people to write their own fiction based on the storyline and produce downloadable video clips of the many weird and wonderful things that can be done in the game. \"It blew me away the first time someone managed to climb to the top of Halo,\" said Errera, referring to a fan who had created a video of Master Chief scaling the landscape of the graphical world. Video clips of the more outrageous stunts that are possible thanks to the games amazing physics engine are incredibly popular and some have attained a cult following. Speculation about the sequel has seen every titbit analysed and poured over with all the intent of a forensic scientist examining a body. When early screenshots of the game were released some people wrote essay-length articles highlighting everything from the texture of graphics to clues about the story line. Errera said expectations of the sequel among fans were sky high. \"It does not feel like a game release any more. Somebody told me this was the biggest single release of any product in Microsofts history. \"Were all just hoping that Bungie has got it right again.\"  Halo 2 is out on 9 November in the US and 11 November in the UK ',\n",
       " 'Bank holds interest rate at 4.75%  The Bank of England has left interest rates on hold again at 4.75%, in a widely-predicted move.  Rates went up five times from November 2003 - as the bank sought to cool the housing market and consumer debt - but have remained unchanged since August. Recent data has indicated a slowdown in manufacturing and consumer spending, as well as in mortgage approvals. And retail sales disappointed over Christmas, with analysts putting the drop down to less consumer confidence.  Rising interest rates and the accompanying slowdown in the housing market have knocked consumers optimism, causing a sharp fall in demand for expensive goods, according to a report earlier this week from the British Retail Consortium. The BRC said Britains retailers had endured their worst Christmas in a decade.  \"Todays no change decision is correct,\" said David Frost, Director General of the British Chambers of Commerce (BCC). \"But, if there are clear signs that the economy slows, the MPC should be ready to take quick corrective action and cut rates. \"Dismal reports from the retail trade about Christmas sales are worrying, if they indicate a more general weakening in consumer spending.\"  Mr Frost added: \"The housing market outlook remains highly uncertain. \"It is widely accepted that, if house prices start falling more sharply, the risks facing the economy will worsen considerably.\" CBI chief economist Ian McCafferty said the economy had \"slowed in recent months in response to rate rises\" but that it was difficult to gauge from the Christmas period the likely pace of activity through the summer. \"The Bank is having to juggle the emergence of inflationary pressures, driven by a tight labour market and buoyant commodity prices, against the risk of an over-abrupt slowdown in consumer activity,\" he said. \"Interest rates are likely to remain on hold for some time.\"  On Thursday there was more gloomy news on the manufacturing front, as the Office for National (ONS) statistics revealed British manufacturing output unexpectedly fell in November - for the fifth month in the past six. The ONS said manufacturing output dropped 0.1% in November, matching a similar unrevised fall in October and confounding economists expectations of a 0.3% rise. Manufacturers organisation, the EEF, said it expected the hold in interest rates to continue in the near future. It also said there was evidence that manufacturers confidence may be waning as the outlook for the world economy becomes more uncertain.  \"So far the evidence suggests that last years rate increases have helped to rebalance the economy without damaging the recovery in manufacturing,\" said EEF chief economist, Steve Radley. \"However, should the business outlook start to deteriorate, the Bank should stand ready to cut rates.\" Some economists have predicted rates will drop later in the year, although others feel the Bank may still think there is a need for a rise to 5% before that happens. The Bank remains concerned about the long-term risks posed by personal debt - which is rising at 15% a year - if economic conditions worsen. ']"
      ]
     },
     "execution_count": 9,
     "metadata": {},
     "output_type": "execute_result"
    }
   ],
   "source": [
    "# first 2 rows as list\n",
    "train_texts[:2]"
   ]
  },
  {
   "cell_type": "code",
   "execution_count": 10,
   "metadata": {
    "colab": {
     "base_uri": "https://localhost:8080/"
    },
    "executionInfo": {
     "elapsed": 14,
     "status": "ok",
     "timestamp": 1719321846718,
     "user": {
      "displayName": "Mohammed Imran",
      "userId": "13573663846275111308"
     },
     "user_tz": -330
    },
    "id": "T1MYVU5QfFrL",
    "outputId": "06aa27b9-557b-41ed-fa9d-cbb67349187c"
   },
   "outputs": [
    {
     "data": {
      "text/plain": [
       "[4, 0]"
      ]
     },
     "execution_count": 10,
     "metadata": {},
     "output_type": "execute_result"
    }
   ],
   "source": [
    "# encoded labels of first 2 rows\n",
    "train_labels[:2]"
   ]
  },
  {
   "cell_type": "code",
   "execution_count": 11,
   "metadata": {
    "executionInfo": {
     "elapsed": 32636,
     "status": "ok",
     "timestamp": 1719321879343,
     "user": {
      "displayName": "Mohammed Imran",
      "userId": "13573663846275111308"
     },
     "user_tz": -330
    },
    "id": "2waFzitiuuCj"
   },
   "outputs": [],
   "source": [
    "# Initializing the tokenizer from pretrained distilBert \n",
    "tokenizer = DistilBertTokenizer.from_pretrained('distilbert-base-uncased')\n",
    "\n",
    "# fit-transform the train data to the tokeninzer with truncation and padding\n",
    "train_encodings = tokenizer(train_texts, truncation=True, padding=True)\n",
    "\n",
    "# fit-transform the validation data to the tokeninzer with truncation and padding\n",
    "val_encodings = tokenizer(val_texts, truncation=True, padding=True)"
   ]
  },
  {
   "cell_type": "code",
   "execution_count": 12,
   "metadata": {
    "colab": {
     "base_uri": "https://localhost:8080/"
    },
    "executionInfo": {
     "elapsed": 27,
     "status": "ok",
     "timestamp": 1719321879343,
     "user": {
      "displayName": "Mohammed Imran",
      "userId": "13573663846275111308"
     },
     "user_tz": -330
    },
    "id": "hxT6Eczdf1dz",
    "outputId": "3d485c48-9c83-4ad6-8af0-c3e1fa935edb"
   },
   "outputs": [
    {
     "data": {
      "text/plain": [
       "[[101,\n",
       "  17201,\n",
       "  4599,\n",
       "  3246,\n",
       "  2005,\n",
       "  8297,\n",
       "  12202,\n",
       "  2678,\n",
       "  2208,\n",
       "  17201,\n",
       "  1016,\n",
       "  2038,\n",
       "  2042,\n",
       "  2207,\n",
       "  1999,\n",
       "  1996,\n",
       "  2149,\n",
       "  2006,\n",
       "  1023,\n",
       "  2281,\n",
       "  1010,\n",
       "  2007,\n",
       "  1037,\n",
       "  2866,\n",
       "  2713,\n",
       "  2048,\n",
       "  2420,\n",
       "  2101,\n",
       "  1012,\n",
       "  2339,\n",
       "  2003,\n",
       "  1996,\n",
       "  2208,\n",
       "  2426,\n",
       "  1996,\n",
       "  2087,\n",
       "  11436,\n",
       "  1997,\n",
       "  2035,\n",
       "  2051,\n",
       "  1029,\n",
       "  17201,\n",
       "  2003,\n",
       "  2641,\n",
       "  2011,\n",
       "  2116,\n",
       "  2678,\n",
       "  2208,\n",
       "  26136,\n",
       "  23194,\n",
       "  2015,\n",
       "  2000,\n",
       "  2022,\n",
       "  2028,\n",
       "  1997,\n",
       "  1996,\n",
       "  10418,\n",
       "  4973,\n",
       "  1997,\n",
       "  9123,\n",
       "  4024,\n",
       "  2412,\n",
       "  2550,\n",
       "  1998,\n",
       "  2062,\n",
       "  2084,\n",
       "  1015,\n",
       "  1012,\n",
       "  1019,\n",
       "  2454,\n",
       "  2111,\n",
       "  4969,\n",
       "  2031,\n",
       "  3653,\n",
       "  1011,\n",
       "  3641,\n",
       "  1996,\n",
       "  8297,\n",
       "  1012,\n",
       "  1037,\n",
       "  2671,\n",
       "  4349,\n",
       "  8680,\n",
       "  1010,\n",
       "  17201,\n",
       "  16441,\n",
       "  1996,\n",
       "  2895,\n",
       "  2006,\n",
       "  1037,\n",
       "  2529,\n",
       "  22330,\n",
       "  11755,\n",
       "  1010,\n",
       "  4758,\n",
       "  2011,\n",
       "  1996,\n",
       "  2447,\n",
       "  1010,\n",
       "  2040,\n",
       "  2018,\n",
       "  2000,\n",
       "  3828,\n",
       "  2010,\n",
       "  3626,\n",
       "  2013,\n",
       "  2019,\n",
       "  7344,\n",
       "  21038,\n",
       "  2044,\n",
       "  1037,\n",
       "  5823,\n",
       "  4899,\n",
       "  2006,\n",
       "  1037,\n",
       "  4326,\n",
       "  1998,\n",
       "  12564,\n",
       "  2088,\n",
       "  4838,\n",
       "  2006,\n",
       "  1996,\n",
       "  4592,\n",
       "  3302,\n",
       "  1997,\n",
       "  1037,\n",
       "  5016,\n",
       "  3614,\n",
       "  1999,\n",
       "  2686,\n",
       "  1012,\n",
       "  19451,\n",
       "  1997,\n",
       "  2477,\n",
       "  2627,\n",
       "  2009,\n",
       "  2001,\n",
       "  2025,\n",
       "  1011,\n",
       "  2021,\n",
       "  2004,\n",
       "  1037,\n",
       "  14704,\n",
       "  1997,\n",
       "  8040,\n",
       "  7317,\n",
       "  7432,\n",
       "  2671,\n",
       "  4349,\n",
       "  4427,\n",
       "  2011,\n",
       "  2573,\n",
       "  2107,\n",
       "  2004,\n",
       "  6554,\n",
       "  9152,\n",
       "  8159,\n",
       "  2015,\n",
       "  3614,\n",
       "  11108,\n",
       "  1998,\n",
       "  1996,\n",
       "  2143,\n",
       "  3340,\n",
       "  5605,\n",
       "  26246,\n",
       "  1010,\n",
       "  2009,\n",
       "  4906,\n",
       "  1996,\n",
       "  3021,\n",
       "  6669,\n",
       "  1012,\n",
       "  17201,\n",
       "  2768,\n",
       "  2041,\n",
       "  2013,\n",
       "  1037,\n",
       "  4306,\n",
       "  1997,\n",
       "  2714,\n",
       "  4486,\n",
       "  1011,\n",
       "  2009,\n",
       "  2001,\n",
       "  20477,\n",
       "  2135,\n",
       "  8052,\n",
       "  1010,\n",
       "  2018,\n",
       "  14388,\n",
       "  5746,\n",
       "  1010,\n",
       "  2478,\n",
       "  2079,\n",
       "  14510,\n",
       "  3617,\n",
       "  1010,\n",
       "  1037,\n",
       "  11519,\n",
       "  9994,\n",
       "  1010,\n",
       "  7107,\n",
       "  2377,\n",
       "  8010,\n",
       "  1998,\n",
       "  8052,\n",
       "  5584,\n",
       "  1012,\n",
       "  2021,\n",
       "  2054,\n",
       "  4417,\n",
       "  17201,\n",
       "  2004,\n",
       "  1037,\n",
       "  4438,\n",
       "  2020,\n",
       "  1996,\n",
       "  5190,\n",
       "  1997,\n",
       "  4751,\n",
       "  2029,\n",
       "  2716,\n",
       "  1037,\n",
       "  3110,\n",
       "  1997,\n",
       "  3907,\n",
       "  1998,\n",
       "  1996,\n",
       "  8216,\n",
       "  2135,\n",
       "  1011,\n",
       "  2152,\n",
       "  2537,\n",
       "  5300,\n",
       "  2025,\n",
       "  2788,\n",
       "  3378,\n",
       "  2007,\n",
       "  2678,\n",
       "  10355,\n",
       "  1012,\n",
       "  2550,\n",
       "  2011,\n",
       "  21122,\n",
       "  11239,\n",
       "  4007,\n",
       "  1010,\n",
       "  8228,\n",
       "  2005,\n",
       "  2037,\n",
       "  8144,\n",
       "  1999,\n",
       "  10355,\n",
       "  1010,\n",
       "  2009,\n",
       "  3303,\n",
       "  1037,\n",
       "  16130,\n",
       "  2426,\n",
       "  1996,\n",
       "  10355,\n",
       "  13577,\n",
       "  2043,\n",
       "  1996,\n",
       "  9722,\n",
       "  2001,\n",
       "  4149,\n",
       "  2011,\n",
       "  7513,\n",
       "  1998,\n",
       "  2150,\n",
       "  2019,\n",
       "  12202,\n",
       "  7262,\n",
       "  1012,\n",
       "  8149,\n",
       "  9413,\n",
       "  24068,\n",
       "  1010,\n",
       "  3559,\n",
       "  1997,\n",
       "  4599,\n",
       "  4221,\n",
       "  17201,\n",
       "  1012,\n",
       "  21122,\n",
       "  11239,\n",
       "  1012,\n",
       "  8917,\n",
       "  1010,\n",
       "  2056,\n",
       "  1024,\n",
       "  1000,\n",
       "  21122,\n",
       "  11239,\n",
       "  2288,\n",
       "  2673,\n",
       "  2157,\n",
       "  1012,\n",
       "  2027,\n",
       "  2020,\n",
       "  2428,\n",
       "  6176,\n",
       "  2000,\n",
       "  2191,\n",
       "  2469,\n",
       "  2673,\n",
       "  2499,\n",
       "  1996,\n",
       "  2126,\n",
       "  2009,\n",
       "  2001,\n",
       "  4011,\n",
       "  2000,\n",
       "  1012,\n",
       "  1000,\n",
       "  2498,\n",
       "  15886,\n",
       "  2015,\n",
       "  2017,\n",
       "  2043,\n",
       "  2017,\n",
       "  2020,\n",
       "  2652,\n",
       "  1012,\n",
       "  2045,\n",
       "  2001,\n",
       "  2498,\n",
       "  1999,\n",
       "  17201,\n",
       "  2008,\n",
       "  2018,\n",
       "  2025,\n",
       "  2042,\n",
       "  2589,\n",
       "  2077,\n",
       "  2021,\n",
       "  2673,\n",
       "  1999,\n",
       "  2045,\n",
       "  2001,\n",
       "  2004,\n",
       "  2204,\n",
       "  2004,\n",
       "  2009,\n",
       "  2071,\n",
       "  2022,\n",
       "  1012,\n",
       "  1000,\n",
       "  2002,\n",
       "  2794,\n",
       "  1024,\n",
       "  1000,\n",
       "  20477,\n",
       "  2135,\n",
       "  2009,\n",
       "  2001,\n",
       "  6020,\n",
       "  2000,\n",
       "  2673,\n",
       "  2842,\n",
       "  2041,\n",
       "  2045,\n",
       "  1012,\n",
       "  1000,\n",
       "  2009,\n",
       "  2036,\n",
       "  2018,\n",
       "  1037,\n",
       "  5995,\n",
       "  2000,\n",
       "  2009,\n",
       "  2008,\n",
       "  2081,\n",
       "  2009,\n",
       "  3233,\n",
       "  2041,\n",
       "  1012,\n",
       "  1000,\n",
       "  17201,\n",
       "  2001,\n",
       "  12890,\n",
       "  10047,\n",
       "  16862,\n",
       "  3512,\n",
       "  1010,\n",
       "  13475,\n",
       "  1996,\n",
       "  2447,\n",
       "  2046,\n",
       "  1996,\n",
       "  2895,\n",
       "  1998,\n",
       "  14819,\n",
       "  4892,\n",
       "  1996,\n",
       "  8278,\n",
       "  2090,\n",
       "  3898,\n",
       "  1998,\n",
       "  11486,\n",
       "  1012,\n",
       "  2009,\n",
       "  2036,\n",
       "  3007,\n",
       "  5084,\n",
       "  2006,\n",
       "  1996,\n",
       "  3652,\n",
       "  6217,\n",
       "  1997,\n",
       "  17595,\n",
       "  10355,\n",
       "  1999,\n",
       "  1996,\n",
       "  7473,\n",
       "  2088,\n",
       "  1011,\n",
       "  2005,\n",
       "  1996,\n",
       "  2034,\n",
       "  2051,\n",
       "  2009,\n",
       "  2150,\n",
       "  3733,\n",
       "  2000,\n",
       "  4957,\n",
       "  3674,\n",
       "  2208,\n",
       "  22659,\n",
       "  2362,\n",
       "  1010,\n",
       "  4352,\n",
       "  2039,\n",
       "  2000,\n",
       "  2385,\n",
       "  2867,\n",
       "  2000,\n",
       "  2645,\n",
       "  2114,\n",
       "  2169,\n",
       "  2060,\n",
       "  2012,\n",
       "  1996,\n",
       "  2168,\n",
       "  2051,\n",
       "  1012,\n",
       "  1996,\n",
       "  2208,\n",
       "  6880,\n",
       "  13237,\n",
       "  2019,\n",
       "  3784,\n",
       "  2206,\n",
       "  1010,\n",
       "  2029,\n",
       "  4247,\n",
       "  2651,\n",
       "  2007,\n",
       "  1037,\n",
       "  3556,\n",
       "  1997,\n",
       "  17201,\n",
       "  5470,\n",
       "  11744,\n",
       "  2206,\n",
       "  2296,\n",
       "  7814,\n",
       "  1997,\n",
       "  1996,\n",
       "  8297,\n",
       "  1010,\n",
       "  17201,\n",
       "  1016,\n",
       "  1012,\n",
       "  9413,\n",
       "  24068,\n",
       "  15970,\n",
       "  2093,\n",
       "  2000,\n",
       "  23817,\n",
       "  2847,\n",
       "  1037,\n",
       "  2154,\n",
       "  1997,\n",
       "  2010,\n",
       "  2219,\n",
       "  2051,\n",
       "  8498,\n",
       "  1996,\n",
       "  27564,\n",
       "  2759,\n",
       "  4037,\n",
       "  1010,\n",
       "  2029,\n",
       "  17771,\n",
       "  5174,\n",
       "  1010,\n",
       "  2199,\n",
       "  3931,\n",
       "  5328,\n",
       "  1037,\n",
       "  2154,\n",
       "  2013,\n",
       "  17201,\n",
       "  4599,\n",
       "  9461,\n",
       "  2005,\n",
       "  1996,\n",
       "  6745,\n",
       "  102],\n",
       " [101,\n",
       "  2924,\n",
       "  4324,\n",
       "  3037,\n",
       "  3446,\n",
       "  2012,\n",
       "  1018,\n",
       "  1012,\n",
       "  4293,\n",
       "  1003,\n",
       "  1996,\n",
       "  2924,\n",
       "  1997,\n",
       "  2563,\n",
       "  2038,\n",
       "  2187,\n",
       "  3037,\n",
       "  6165,\n",
       "  2006,\n",
       "  2907,\n",
       "  2153,\n",
       "  2012,\n",
       "  1018,\n",
       "  1012,\n",
       "  4293,\n",
       "  1003,\n",
       "  1010,\n",
       "  1999,\n",
       "  1037,\n",
       "  4235,\n",
       "  1011,\n",
       "  10173,\n",
       "  2693,\n",
       "  1012,\n",
       "  6165,\n",
       "  2253,\n",
       "  2039,\n",
       "  2274,\n",
       "  2335,\n",
       "  2013,\n",
       "  2281,\n",
       "  2494,\n",
       "  1011,\n",
       "  2004,\n",
       "  1996,\n",
       "  2924,\n",
       "  4912,\n",
       "  2000,\n",
       "  4658,\n",
       "  1996,\n",
       "  3847,\n",
       "  3006,\n",
       "  1998,\n",
       "  7325,\n",
       "  7016,\n",
       "  1011,\n",
       "  2021,\n",
       "  2031,\n",
       "  2815,\n",
       "  15704,\n",
       "  2144,\n",
       "  2257,\n",
       "  1012,\n",
       "  3522,\n",
       "  2951,\n",
       "  2038,\n",
       "  5393,\n",
       "  1037,\n",
       "  4030,\n",
       "  7698,\n",
       "  1999,\n",
       "  5814,\n",
       "  1998,\n",
       "  7325,\n",
       "  5938,\n",
       "  1010,\n",
       "  2004,\n",
       "  2092,\n",
       "  2004,\n",
       "  1999,\n",
       "  14344,\n",
       "  6226,\n",
       "  2015,\n",
       "  1012,\n",
       "  1998,\n",
       "  7027,\n",
       "  4341,\n",
       "  9364,\n",
       "  2058,\n",
       "  4234,\n",
       "  1010,\n",
       "  2007,\n",
       "  18288,\n",
       "  5128,\n",
       "  1996,\n",
       "  4530,\n",
       "  2091,\n",
       "  2000,\n",
       "  2625,\n",
       "  7325,\n",
       "  7023,\n",
       "  1012,\n",
       "  4803,\n",
       "  3037,\n",
       "  6165,\n",
       "  1998,\n",
       "  1996,\n",
       "  10860,\n",
       "  4030,\n",
       "  7698,\n",
       "  1999,\n",
       "  1996,\n",
       "  3847,\n",
       "  3006,\n",
       "  2031,\n",
       "  6573,\n",
       "  10390,\n",
       "  27451,\n",
       "  1010,\n",
       "  4786,\n",
       "  1037,\n",
       "  4629,\n",
       "  2991,\n",
       "  1999,\n",
       "  5157,\n",
       "  2005,\n",
       "  6450,\n",
       "  5350,\n",
       "  1010,\n",
       "  2429,\n",
       "  2000,\n",
       "  1037,\n",
       "  3189,\n",
       "  3041,\n",
       "  2023,\n",
       "  2733,\n",
       "  2013,\n",
       "  1996,\n",
       "  2329,\n",
       "  7027,\n",
       "  12360,\n",
       "  1012,\n",
       "  1996,\n",
       "  7987,\n",
       "  2278,\n",
       "  2056,\n",
       "  3725,\n",
       "  2015,\n",
       "  16629,\n",
       "  2018,\n",
       "  16753,\n",
       "  2037,\n",
       "  5409,\n",
       "  4234,\n",
       "  1999,\n",
       "  1037,\n",
       "  5476,\n",
       "  1012,\n",
       "  1000,\n",
       "  2651,\n",
       "  2015,\n",
       "  2053,\n",
       "  2689,\n",
       "  3247,\n",
       "  2003,\n",
       "  6149,\n",
       "  1010,\n",
       "  1000,\n",
       "  2056,\n",
       "  2585,\n",
       "  10097,\n",
       "  1010,\n",
       "  2472,\n",
       "  2236,\n",
       "  1997,\n",
       "  1996,\n",
       "  2329,\n",
       "  8477,\n",
       "  1997,\n",
       "  6236,\n",
       "  1006,\n",
       "  4647,\n",
       "  2278,\n",
       "  1007,\n",
       "  1012,\n",
       "  1000,\n",
       "  2021,\n",
       "  1010,\n",
       "  2065,\n",
       "  2045,\n",
       "  2024,\n",
       "  3154,\n",
       "  5751,\n",
       "  2008,\n",
       "  1996,\n",
       "  4610,\n",
       "  4030,\n",
       "  2015,\n",
       "  1010,\n",
       "  1996,\n",
       "  6131,\n",
       "  2278,\n",
       "  2323,\n",
       "  2022,\n",
       "  3201,\n",
       "  2000,\n",
       "  2202,\n",
       "  4248,\n",
       "  6149,\n",
       "  3512,\n",
       "  2895,\n",
       "  1998,\n",
       "  3013,\n",
       "  6165,\n",
       "  1012,\n",
       "  1000,\n",
       "  4487,\n",
       "  26212,\n",
       "  2140,\n",
       "  4311,\n",
       "  2013,\n",
       "  1996,\n",
       "  7027,\n",
       "  3119,\n",
       "  2055,\n",
       "  4234,\n",
       "  4341,\n",
       "  2024,\n",
       "  15366,\n",
       "  1010,\n",
       "  2065,\n",
       "  2027,\n",
       "  5769,\n",
       "  1037,\n",
       "  2062,\n",
       "  2236,\n",
       "  22031,\n",
       "  1999,\n",
       "  7325,\n",
       "  5938,\n",
       "  1012,\n",
       "  1000,\n",
       "  2720,\n",
       "  10097,\n",
       "  2794,\n",
       "  1024,\n",
       "  1000,\n",
       "  1996,\n",
       "  3847,\n",
       "  3006,\n",
       "  17680,\n",
       "  3464,\n",
       "  3811,\n",
       "  9662,\n",
       "  1012,\n",
       "  1000,\n",
       "  2009,\n",
       "  2003,\n",
       "  4235,\n",
       "  3970,\n",
       "  2008,\n",
       "  1010,\n",
       "  2065,\n",
       "  2160,\n",
       "  7597,\n",
       "  2707,\n",
       "  4634,\n",
       "  2062,\n",
       "  9249,\n",
       "  1010,\n",
       "  1996,\n",
       "  10831,\n",
       "  5307,\n",
       "  1996,\n",
       "  4610,\n",
       "  2097,\n",
       "  4788,\n",
       "  2078,\n",
       "  9839,\n",
       "  1012,\n",
       "  1000,\n",
       "  17324,\n",
       "  2072,\n",
       "  2708,\n",
       "  11708,\n",
       "  4775,\n",
       "  23680,\n",
       "  10354,\n",
       "  7512,\n",
       "  3723,\n",
       "  2056,\n",
       "  1996,\n",
       "  4610,\n",
       "  2018,\n",
       "  1000,\n",
       "  9784,\n",
       "  1999,\n",
       "  3522,\n",
       "  2706,\n",
       "  1999,\n",
       "  3433,\n",
       "  2000,\n",
       "  3446,\n",
       "  9466,\n",
       "  1000,\n",
       "  2021,\n",
       "  2008,\n",
       "  2009,\n",
       "  2001,\n",
       "  3697,\n",
       "  2000,\n",
       "  7633,\n",
       "  2013,\n",
       "  1996,\n",
       "  4234,\n",
       "  2558,\n",
       "  1996,\n",
       "  3497,\n",
       "  6393,\n",
       "  1997,\n",
       "  4023,\n",
       "  2083,\n",
       "  1996,\n",
       "  2621,\n",
       "  1012,\n",
       "  1000,\n",
       "  1996,\n",
       "  2924,\n",
       "  2003,\n",
       "  2383,\n",
       "  2000,\n",
       "  26536,\n",
       "  9354,\n",
       "  1996,\n",
       "  14053,\n",
       "  1997,\n",
       "  14200,\n",
       "  5649,\n",
       "  15399,\n",
       "  1010,\n",
       "  5533,\n",
       "  2011,\n",
       "  1037,\n",
       "  4389,\n",
       "  4428,\n",
       "  3006,\n",
       "  1998,\n",
       "  20934,\n",
       "  18232,\n",
       "  3372,\n",
       "  19502,\n",
       "  7597,\n",
       "  1010,\n",
       "  2114,\n",
       "  1996,\n",
       "  3891,\n",
       "  1997,\n",
       "  2019,\n",
       "  2058,\n",
       "  1011,\n",
       "  18772,\n",
       "  4030,\n",
       "  7698,\n",
       "  1999,\n",
       "  7325,\n",
       "  4023,\n",
       "  1010,\n",
       "  1000,\n",
       "  2002,\n",
       "  2056,\n",
       "  1012,\n",
       "  1000,\n",
       "  3037,\n",
       "  6165,\n",
       "  2024,\n",
       "  3497,\n",
       "  2000,\n",
       "  3961,\n",
       "  2006,\n",
       "  2907,\n",
       "  2005,\n",
       "  2070,\n",
       "  2051,\n",
       "  1012,\n",
       "  1000,\n",
       "  2006,\n",
       "  9432,\n",
       "  2045,\n",
       "  2001,\n",
       "  2062,\n",
       "  24067,\n",
       "  2100,\n",
       "  2739,\n",
       "  2006,\n",
       "  1996,\n",
       "  5814,\n",
       "  2392,\n",
       "  1010,\n",
       "  2004,\n",
       "  1996,\n",
       "  2436,\n",
       "  2005,\n",
       "  2120,\n",
       "  1006,\n",
       "  2006,\n",
       "  2015,\n",
       "  1007,\n",
       "  6747,\n",
       "  3936,\n",
       "  2329,\n",
       "  5814,\n",
       "  6434,\n",
       "  14153,\n",
       "  3062,\n",
       "  1999,\n",
       "  2281,\n",
       "  1011,\n",
       "  2005,\n",
       "  1996,\n",
       "  3587,\n",
       "  3204,\n",
       "  1999,\n",
       "  1996,\n",
       "  2627,\n",
       "  2416,\n",
       "  1012,\n",
       "  1996,\n",
       "  2006,\n",
       "  2015,\n",
       "  2056,\n",
       "  5814,\n",
       "  6434,\n",
       "  3333,\n",
       "  1014,\n",
       "  1012,\n",
       "  1015,\n",
       "  1003,\n",
       "  1999,\n",
       "  2281,\n",
       "  1010,\n",
       "  9844,\n",
       "  1037,\n",
       "  2714,\n",
       "  4895,\n",
       "  2890,\n",
       "  11365,\n",
       "  2098,\n",
       "  2991,\n",
       "  1999,\n",
       "  2255,\n",
       "  1998,\n",
       "  9530,\n",
       "  14876,\n",
       "  8630,\n",
       "  2075,\n",
       "  22171,\n",
       "  10908,\n",
       "  1997,\n",
       "  1037,\n",
       "  1014,\n",
       "  1012,\n",
       "  1017,\n",
       "  1003,\n",
       "  4125,\n",
       "  1012,\n",
       "  8712,\n",
       "  5502,\n",
       "  1010,\n",
       "  1996,\n",
       "  25212,\n",
       "  2546,\n",
       "  1010,\n",
       "  2056,\n",
       "  2009,\n",
       "  3517,\n",
       "  1996,\n",
       "  2907,\n",
       "  1999,\n",
       "  3037,\n",
       "  6165,\n",
       "  2000,\n",
       "  3613,\n",
       "  1999,\n",
       "  1996,\n",
       "  2379,\n",
       "  2925,\n",
       "  1012,\n",
       "  2009,\n",
       "  2036,\n",
       "  2056,\n",
       "  2045,\n",
       "  2001,\n",
       "  3350,\n",
       "  2008,\n",
       "  8712,\n",
       "  7023,\n",
       "  2089,\n",
       "  2022,\n",
       "  14071,\n",
       "  2075,\n",
       "  2004,\n",
       "  1996,\n",
       "  17680,\n",
       "  2005,\n",
       "  1996,\n",
       "  2088,\n",
       "  4610,\n",
       "  4150,\n",
       "  2062,\n",
       "  9662,\n",
       "  1012,\n",
       "  102]]"
      ]
     },
     "execution_count": 12,
     "metadata": {},
     "output_type": "execute_result"
    }
   ],
   "source": [
    "# Encoded ids of the first 2 rows\n",
    "train_encodings['input_ids'][:2]"
   ]
  },
  {
   "cell_type": "code",
   "execution_count": 13,
   "metadata": {
    "colab": {
     "base_uri": "https://localhost:8080/"
    },
    "executionInfo": {
     "elapsed": 25,
     "status": "ok",
     "timestamp": 1719321879343,
     "user": {
      "displayName": "Mohammed Imran",
      "userId": "13573663846275111308"
     },
     "user_tz": -330
    },
    "id": "dtLN_eLzut5L",
    "outputId": "b61819b8-8848-46cf-d848-fa7b891e5419"
   },
   "outputs": [
    {
     "data": {
      "text/plain": [
       "512"
      ]
     },
     "execution_count": 13,
     "metadata": {},
     "output_type": "execute_result"
    }
   ],
   "source": [
    "# len of encoding is equal to the max input size of the model\n",
    "len(train_encodings['input_ids'][0])"
   ]
  },
  {
   "cell_type": "code",
   "execution_count": 14,
   "metadata": {
    "colab": {
     "base_uri": "https://localhost:8080/"
    },
    "executionInfo": {
     "elapsed": 16,
     "status": "ok",
     "timestamp": 1719321879344,
     "user": {
      "displayName": "Mohammed Imran",
      "userId": "13573663846275111308"
     },
     "user_tz": -330
    },
    "id": "Ngof867Wut0z",
    "outputId": "227e9eac-29fa-42be-dfb8-4e718763034d"
   },
   "outputs": [
    {
     "data": {
      "text/plain": [
       "512"
      ]
     },
     "execution_count": 14,
     "metadata": {},
     "output_type": "execute_result"
    }
   ],
   "source": [
    "# len of encoding is equal to the max input size of the model\n",
    "len(val_encodings['input_ids'][0])"
   ]
  },
  {
   "cell_type": "code",
   "execution_count": 15,
   "metadata": {
    "executionInfo": {
     "elapsed": 3910,
     "status": "ok",
     "timestamp": 1719321883239,
     "user": {
      "displayName": "Mohammed Imran",
      "userId": "13573663846275111308"
     },
     "user_tz": -330
    },
    "id": "w93-yJw2utw8"
   },
   "outputs": [],
   "source": [
    "# Converting the train encodings into TF dataset\n",
    "train_dataset = tf.data.Dataset.from_tensor_slices((\n",
    "    dict(train_encodings),\n",
    "    train_labels\n",
    "))\n",
    "\n",
    "# Converting the validation encodings into TF dataset\n",
    "val_dataset = tf.data.Dataset.from_tensor_slices((\n",
    "    dict(val_encodings),\n",
    "    val_labels\n",
    "))"
   ]
  },
  {
   "cell_type": "code",
   "execution_count": 16,
   "metadata": {
    "colab": {
     "base_uri": "https://localhost:8080/"
    },
    "executionInfo": {
     "elapsed": 6,
     "status": "ok",
     "timestamp": 1719321883240,
     "user": {
      "displayName": "Mohammed Imran",
      "userId": "13573663846275111308"
     },
     "user_tz": -330
    },
    "id": "sMPdd0dqgTP3",
    "outputId": "3f0b25c7-7313-4be3-e2ed-27a50535edcf"
   },
   "outputs": [
    {
     "data": {
      "text/plain": [
       "<_TensorSliceDataset element_spec=({'input_ids': TensorSpec(shape=(512,), dtype=tf.int32, name=None), 'attention_mask': TensorSpec(shape=(512,), dtype=tf.int32, name=None)}, TensorSpec(shape=(), dtype=tf.int32, name=None))>"
      ]
     },
     "execution_count": 16,
     "metadata": {},
     "output_type": "execute_result"
    }
   ],
   "source": [
    "train_dataset"
   ]
  },
  {
   "cell_type": "code",
   "execution_count": 17,
   "metadata": {
    "colab": {
     "base_uri": "https://localhost:8080/"
    },
    "executionInfo": {
     "elapsed": 5,
     "status": "ok",
     "timestamp": 1719321883240,
     "user": {
      "displayName": "Mohammed Imran",
      "userId": "13573663846275111308"
     },
     "user_tz": -330
    },
    "id": "6engkQFHgnXa",
    "outputId": "7d2f3937-0a5e-4746-fef5-6bd67ce45442"
   },
   "outputs": [
    {
     "data": {
      "text/plain": [
       "<_TensorSliceDataset element_spec=({'input_ids': TensorSpec(shape=(512,), dtype=tf.int32, name=None), 'attention_mask': TensorSpec(shape=(512,), dtype=tf.int32, name=None)}, TensorSpec(shape=(), dtype=tf.int32, name=None))>"
      ]
     },
     "execution_count": 17,
     "metadata": {},
     "output_type": "execute_result"
    }
   ],
   "source": [
    "val_dataset"
   ]
  },
  {
   "cell_type": "markdown",
   "metadata": {
    "id": "B2ATbIzee9l9"
   },
   "source": [
    "### Fine Tuning without any regularization or dropout"
   ]
  },
  {
   "cell_type": "code",
   "execution_count": 18,
   "metadata": {
    "colab": {
     "base_uri": "https://localhost:8080/"
    },
    "executionInfo": {
     "elapsed": 605,
     "status": "ok",
     "timestamp": 1719321883841,
     "user": {
      "displayName": "Mohammed Imran",
      "userId": "13573663846275111308"
     },
     "user_tz": -330
    },
    "id": "2fIBnb_Eutsr",
    "outputId": "2a30ce12-53ea-43d1-89da-fbfb7f957bca"
   },
   "outputs": [
    {
     "name": "stderr",
     "output_type": "stream",
     "text": [
      "Some weights of the PyTorch model were not used when initializing the TF 2.0 model TFDistilBertForSequenceClassification: ['vocab_layer_norm.bias', 'vocab_layer_norm.weight', 'vocab_projector.bias', 'vocab_transform.bias', 'vocab_transform.weight']\n",
      "- This IS expected if you are initializing TFDistilBertForSequenceClassification from a PyTorch model trained on another task or with another architecture (e.g. initializing a TFBertForSequenceClassification model from a BertForPreTraining model).\n",
      "- This IS NOT expected if you are initializing TFDistilBertForSequenceClassification from a PyTorch model that you expect to be exactly identical (e.g. initializing a TFBertForSequenceClassification model from a BertForSequenceClassification model).\n",
      "Some weights or buffers of the TF 2.0 model TFDistilBertForSequenceClassification were not initialized from the PyTorch model and are newly initialized: ['pre_classifier.weight', 'pre_classifier.bias', 'classifier.weight', 'classifier.bias']\n",
      "You should probably TRAIN this model on a down-stream task to be able to use it for predictions and inference.\n"
     ]
    }
   ],
   "source": [
    "# Instantiating the model\n",
    "model = TFDistilBertForSequenceClassification.from_pretrained('distilbert-base-uncased', num_labels=5)\n",
    "\n",
    "# setting up the optimizer\n",
    "optimizer = tf.keras.optimizers.Adam(learning_rate=5e-5)\n",
    "\n",
    "# setting up the loss_function\n",
    "loss_function = tf.keras.losses.SparseCategoricalCrossentropy(from_logits=True)\n",
    "\n",
    "# compiling the model\n",
    "model.compile(optimizer=optimizer, loss=loss_function, metrics=['accuracy'])"
   ]
  },
  {
   "cell_type": "code",
   "execution_count": 19,
   "metadata": {
    "colab": {
     "base_uri": "https://localhost:8080/"
    },
    "executionInfo": {
     "elapsed": 421920,
     "status": "ok",
     "timestamp": 1719322305758,
     "user": {
      "displayName": "Mohammed Imran",
      "userId": "13573663846275111308"
     },
     "user_tz": -330
    },
    "id": "vHjvaIGoutdE",
    "outputId": "3605ec30-d245-4146-b124-c093042cc652"
   },
   "outputs": [
    {
     "name": "stdout",
     "output_type": "stream",
     "text": [
      "Epoch 1/3\n"
     ]
    },
    {
     "name": "stderr",
     "output_type": "stream",
     "text": [
      "WARNING:tensorflow:AutoGraph could not transform <function infer_framework at 0x7825059f8670> and will run it as-is.\n",
      "Cause: for/else statement not yet supported\n",
      "To silence this warning, decorate the function with @tf.autograph.experimental.do_not_convert\n"
     ]
    },
    {
     "name": "stdout",
     "output_type": "stream",
     "text": [
      "WARNING: AutoGraph could not transform <function infer_framework at 0x7825059f8670> and will run it as-is.\n",
      "Cause: for/else statement not yet supported\n",
      "To silence this warning, decorate the function with @tf.autograph.experimental.do_not_convert\n",
      "111/111 [==============================] - 162s 1s/step - loss: 0.4120 - accuracy: 0.9069 - val_loss: 0.1114 - val_accuracy: 0.9753\n",
      "Epoch 2/3\n",
      "111/111 [==============================] - 109s 981ms/step - loss: 0.0714 - accuracy: 0.9841 - val_loss: 0.1651 - val_accuracy: 0.9573\n",
      "Epoch 3/3\n",
      "111/111 [==============================] - 107s 969ms/step - loss: 0.0500 - accuracy: 0.9881 - val_loss: 0.0697 - val_accuracy: 0.9865\n"
     ]
    },
    {
     "data": {
      "text/plain": [
       "<tf_keras.src.callbacks.History at 0x7824a5cf7b80>"
      ]
     },
     "execution_count": 19,
     "metadata": {},
     "output_type": "execute_result"
    }
   ],
   "source": [
    "# fine tuning the model with a batch size of 16 and buffer size of 1000\n",
    "model.fit(train_dataset.shuffle(1000).batch(16), epochs=3,\n",
    "          validation_data=val_dataset.shuffle(1000).batch(16))"
   ]
  },
  {
   "cell_type": "code",
   "execution_count": 20,
   "metadata": {
    "colab": {
     "base_uri": "https://localhost:8080/"
    },
    "executionInfo": {
     "elapsed": 3962,
     "status": "ok",
     "timestamp": 1719322309716,
     "user": {
      "displayName": "Mohammed Imran",
      "userId": "13573663846275111308"
     },
     "user_tz": -330
    },
    "id": "zc-QbBawfwWp",
    "outputId": "f7cbf56f-29d0-42ac-fedc-f0262c20e278"
   },
   "outputs": [
    {
     "name": "stdout",
     "output_type": "stream",
     "text": [
      "2/2 [==============================] - 4s 66ms/step\n",
      "Accuracy on test set: 1.0000\n"
     ]
    }
   ],
   "source": [
    "# Model Evaluation on Test set\n",
    "test_encodings = tokenizer(test_texts, truncation=True, padding=True)\n",
    "test_dataset = tf.data.Dataset.from_tensor_slices((dict(test_encodings), test_labels))\n",
    "\n",
    "from sklearn.metrics import accuracy_score\n",
    "\n",
    "# Making predictions on the test dataset\n",
    "predictions = model.predict(test_dataset.batch(16))\n",
    "\n",
    "# Converting logits to probabilities and then to predicted labels\n",
    "predicted_labels = tf.argmax(predictions.logits, axis=1)\n",
    "\n",
    "# Calculating accuracy \n",
    "accuracy = accuracy_score(test_labels, predicted_labels.numpy())\n",
    "\n",
    "print(f\"Accuracy on test set: {accuracy:.4f}\")"
   ]
  },
  {
   "cell_type": "markdown",
   "metadata": {
    "executionInfo": {
     "elapsed": 29,
     "status": "ok",
     "timestamp": 1719322309718,
     "user": {
      "displayName": "Mohammed Imran",
      "userId": "13573663846275111308"
     },
     "user_tz": -330
    },
    "id": "2PzwIqq7fwHK"
   },
   "source": [
    "Model is overfitting"
   ]
  },
  {
   "cell_type": "markdown",
   "metadata": {
    "id": "Qwv1ce7UfM1J"
   },
   "source": [
    "### Fine Tuning with dropout and less number of epochs"
   ]
  },
  {
   "cell_type": "code",
   "execution_count": 32,
   "metadata": {
    "colab": {
     "base_uri": "https://localhost:8080/"
    },
    "executionInfo": {
     "elapsed": 1543,
     "status": "ok",
     "timestamp": 1719323123519,
     "user": {
      "displayName": "Mohammed Imran",
      "userId": "13573663846275111308"
     },
     "user_tz": -330
    },
    "id": "kGcHBrLRfTMa",
    "outputId": "1121c3ae-dd5b-4a59-e9f0-e7c228bcc84d"
   },
   "outputs": [
    {
     "name": "stderr",
     "output_type": "stream",
     "text": [
      "Some weights of the PyTorch model were not used when initializing the TF 2.0 model TFDistilBertForSequenceClassification: ['vocab_layer_norm.bias', 'vocab_layer_norm.weight', 'vocab_projector.bias', 'vocab_transform.bias', 'vocab_transform.weight']\n",
      "- This IS expected if you are initializing TFDistilBertForSequenceClassification from a PyTorch model trained on another task or with another architecture (e.g. initializing a TFBertForSequenceClassification model from a BertForPreTraining model).\n",
      "- This IS NOT expected if you are initializing TFDistilBertForSequenceClassification from a PyTorch model that you expect to be exactly identical (e.g. initializing a TFBertForSequenceClassification model from a BertForSequenceClassification model).\n",
      "Some weights or buffers of the TF 2.0 model TFDistilBertForSequenceClassification were not initialized from the PyTorch model and are newly initialized: ['pre_classifier.weight', 'pre_classifier.bias', 'classifier.weight', 'classifier.bias']\n",
      "You should probably TRAIN this model on a down-stream task to be able to use it for predictions and inference.\n"
     ]
    }
   ],
   "source": [
    "model = TFDistilBertForSequenceClassification.from_pretrained('distilbert-base-uncased', num_labels=5)\n",
    "\n",
    "#Adding a Dropout layer (20% dropout rate)\n",
    "dropout_rate = 0.2\n",
    "model.distilbert.transformer.dropout = tf.keras.layers.Dropout(dropout_rate)\n",
    "\n",
    "# setting up the optimizer\n",
    "optimizer = tf.keras.optimizers.Adam(learning_rate=5e-5)\n",
    "\n",
    "# setting up the loss_function\n",
    "loss_function = tf.keras.losses.SparseCategoricalCrossentropy(from_logits=True)\n",
    "\n",
    "#compiling the model\n",
    "model.compile(optimizer=optimizer, loss=loss_function, metrics=['accuracy'])"
   ]
  },
  {
   "cell_type": "code",
   "execution_count": 33,
   "metadata": {
    "colab": {
     "base_uri": "https://localhost:8080/"
    },
    "executionInfo": {
     "elapsed": 141544,
     "status": "ok",
     "timestamp": 1719323265899,
     "user": {
      "displayName": "Mohammed Imran",
      "userId": "13573663846275111308"
     },
     "user_tz": -330
    },
    "id": "doyeQ-D4GiJ1",
    "outputId": "c4cd17a1-a978-4225-a373-828b7ac98cdc"
   },
   "outputs": [
    {
     "name": "stdout",
     "output_type": "stream",
     "text": [
      "111/111 [==============================] - 141s 1s/step - loss: 0.4009 - accuracy: 0.9143 - val_loss: 0.0849 - val_accuracy: 0.9730\n"
     ]
    },
    {
     "data": {
      "text/plain": [
       "<tf_keras.src.callbacks.History at 0x782475edc280>"
      ]
     },
     "execution_count": 33,
     "metadata": {},
     "output_type": "execute_result"
    }
   ],
   "source": [
    "# Fine Tuning the model\n",
    "model.fit(train_dataset.shuffle(1000).batch(16), epochs=1,\n",
    "          validation_data=val_dataset.shuffle(1000).batch(16))"
   ]
  },
  {
   "cell_type": "code",
   "execution_count": 34,
   "metadata": {
    "colab": {
     "base_uri": "https://localhost:8080/"
    },
    "executionInfo": {
     "elapsed": 4715,
     "status": "ok",
     "timestamp": 1719323270586,
     "user": {
      "displayName": "Mohammed Imran",
      "userId": "13573663846275111308"
     },
     "user_tz": -330
    },
    "id": "5rcUVyGbf1on",
    "outputId": "338978ef-7817-4332-eb13-2185d783b32a"
   },
   "outputs": [
    {
     "name": "stdout",
     "output_type": "stream",
     "text": [
      "2/2 [==============================] - 5s 72ms/step\n",
      "Accuracy on test set: 0.9444\n"
     ]
    }
   ],
   "source": [
    "#Evaluating on the Test set\n",
    "test_encodings = tokenizer(test_texts, truncation=True, padding=True)\n",
    "test_dataset = tf.data.Dataset.from_tensor_slices((dict(test_encodings), test_labels))\n",
    "\n",
    "from sklearn.metrics import accuracy_score\n",
    "\n",
    "# Making predictions on the test dataset\n",
    "predictions = model.predict(test_dataset.batch(16))\n",
    "# predictions = model.predict(test_dataset)\n",
    "\n",
    "# Converting logits to probabilities and then to predicted labels\n",
    "predicted_labels = tf.argmax(predictions.logits, axis=1)\n",
    "\n",
    "# Calculating accuracy\n",
    "accuracy = accuracy_score(test_labels, predicted_labels.numpy())\n",
    "\n",
    "print(f\"Accuracy on test set: {accuracy:.4f}\")"
   ]
  },
  {
   "cell_type": "markdown",
   "metadata": {},
   "source": [
    "Model has generalized well on the trainset"
   ]
  },
  {
   "cell_type": "code",
   "execution_count": 24,
   "metadata": {
    "colab": {
     "base_uri": "https://localhost:8080/"
    },
    "executionInfo": {
     "elapsed": 1149,
     "status": "ok",
     "timestamp": 1719322706395,
     "user": {
      "displayName": "Mohammed Imran",
      "userId": "13573663846275111308"
     },
     "user_tz": -330
    },
    "id": "4wLzG2Aauqn_",
    "outputId": "3ac2a95a-1a83-456d-ccac-b10b954b71d8"
   },
   "outputs": [
    {
     "data": {
      "text/plain": [
       "('/saved_models/tokenizer_config.json',\n",
       " '/saved_models/special_tokens_map.json',\n",
       " '/saved_models/vocab.txt',\n",
       " '/saved_models/added_tokens.json')"
      ]
     },
     "execution_count": 24,
     "metadata": {},
     "output_type": "execute_result"
    }
   ],
   "source": [
    "# Saving the model and tokenizer\n",
    "save_directory = \"/saved_models\" \n",
    "\n",
    "model.save_pretrained(save_directory)\n",
    "tokenizer.save_pretrained(save_directory)"
   ]
  },
  {
   "cell_type": "code",
   "execution_count": 25,
   "metadata": {
    "colab": {
     "base_uri": "https://localhost:8080/"
    },
    "executionInfo": {
     "elapsed": 13,
     "status": "ok",
     "timestamp": 1719322706396,
     "user": {
      "displayName": "Mohammed Imran",
      "userId": "13573663846275111308"
     },
     "user_tz": -330
    },
    "id": "dfAiSPoOIeHD",
    "outputId": "01a02131-67ac-4c9a-d939-34b2b48e1bd5"
   },
   "outputs": [
    {
     "name": "stderr",
     "output_type": "stream",
     "text": [
      "Some layers from the model checkpoint at /saved_models were not used when initializing TFDistilBertForSequenceClassification: ['dropout_39']\n",
      "- This IS expected if you are initializing TFDistilBertForSequenceClassification from the checkpoint of a model trained on another task or with another architecture (e.g. initializing a BertForSequenceClassification model from a BertForPreTraining model).\n",
      "- This IS NOT expected if you are initializing TFDistilBertForSequenceClassification from the checkpoint of a model that you expect to be exactly identical (initializing a BertForSequenceClassification model from a BertForSequenceClassification model).\n",
      "Some layers of TFDistilBertForSequenceClassification were not initialized from the model checkpoint at /saved_models and are newly initialized: ['dropout_60']\n",
      "You should probably TRAIN this model on a down-stream task to be able to use it for predictions and inference.\n"
     ]
    }
   ],
   "source": [
    "# Loading the model and tokenizer\n",
    "loaded_tokenizer = DistilBertTokenizer.from_pretrained(save_directory)\n",
    "loaded_model = TFDistilBertForSequenceClassification.from_pretrained(save_directory)"
   ]
  },
  {
   "cell_type": "code",
   "execution_count": 26,
   "metadata": {
    "colab": {
     "base_uri": "https://localhost:8080/",
     "height": 174
    },
    "executionInfo": {
     "elapsed": 10,
     "status": "ok",
     "timestamp": 1719322706397,
     "user": {
      "displayName": "Mohammed Imran",
      "userId": "13573663846275111308"
     },
     "user_tz": -330
    },
    "id": "rtJ8zEZEIeEK",
    "outputId": "f72c3fae-3093-4632-d71f-f82220da3f8a"
   },
   "outputs": [
    {
     "data": {
      "application/vnd.google.colaboratory.intrinsic+json": {
       "type": "string"
      },
      "text/plain": [
       "'Hodgson relishes European clashes  Former Blackburn boss Roy Hodgson says the Premiership should follow the rest of Europe and have a winter break - but insists that a gruelling domestic schedule will not damage the English elites bid for Champions League glory.  Hodgson - now in charge at Viking Stavanger - was at Liverpools clash with Bayer Leverkusen at Anfield on Tuesday as a member of Uefas technical committee. Hodgson is a fierce advocate of the winter break employed throughout Europe, although not in England - where the Champions League contenders have ploughed through a heavy fixture list. But Hodgson told BBC Sport that while he believes the Premiership should embrace the idea, he does not expect it to cost the English representatives in the last 16 of the Champions League. \"I just feel it is very difficult to say with certainty that teams who have had the break will have a definite edge. \"I am a fervent supporter of the break. It gives players the chance to recharge their batteries midway through the season, which some suggest will give teams an advantage in the Champions League. \"The other school of thought suggests having a break then coming back to it puts you at a disadvantage. \"The bigger discussions around the winter break should be to do with the nature of football today, the needs of football players and the way the Premiership has developed, rather than one or two matches in the Champions League in February.\" Hodgson believes a winter break carries many advantages, explaining: \"As I said, it is the perfect chance to recharge batteries.  \"And certainly if I was still a manager in England I would be supporting any calls for its introduction. \"In pre-season you get a lot of enthusiasm and energy but by the time you get towards Christmas many players, having also played plenty of international matches for club and country and travelled a lot, find themselves getting very jaded. \"The break gives them a chance to recover that energy and enthusiasm and, perhaps more importantly, recover their mental strength during the break and get ready for the games ahead. \"The mental side is by far the most important thing.\" Hodgson added: \"The length of breaks can vary. In Italy the break was very short. You just took Christmas and New Year. \"It was so short you didnt do anything. You gave the players a week or 10 days off, then you were training for a week or 10 days and then went into a game. \"If it is longer, it is important those responsible for physical fitness give the players a programme to follow to ensure the physical strength they have accumulated stays with them.\" And Hodgson believes a winter break would be a positive step in the Premiership. He said: \"If we talk about football at elite level, which the Premiership is, then I would support a winter break. \"If you examine the demands of the Premier League and, in particular on players who play international football for their club and country, then a break would do them the world of good - physically and mentally.\" '"
      ]
     },
     "execution_count": 26,
     "metadata": {},
     "output_type": "execute_result"
    }
   ],
   "source": [
    "test_text = test_texts[13]\n",
    "test_text"
   ]
  },
  {
   "cell_type": "code",
   "execution_count": 27,
   "metadata": {
    "colab": {
     "base_uri": "https://localhost:8080/"
    },
    "executionInfo": {
     "elapsed": 612,
     "status": "ok",
     "timestamp": 1719322707002,
     "user": {
      "displayName": "Mohammed Imran",
      "userId": "13573663846275111308"
     },
     "user_tz": -330
    },
    "id": "PFlAnA1hIeBo",
    "outputId": "ebc86980-a6dc-4c78-c578-08bd55e9b328"
   },
   "outputs": [
    {
     "data": {
      "text/plain": [
       "3"
      ]
     },
     "execution_count": 27,
     "metadata": {},
     "output_type": "execute_result"
    }
   ],
   "source": [
    "# Testing on a single text\n",
    "predict_input = loaded_tokenizer.encode(test_text,\n",
    "                                 truncation=True,\n",
    "                                 padding=True,\n",
    "                                 return_tensors=\"tf\")\n",
    "\n",
    "output = loaded_model(predict_input)[0]\n",
    "\n",
    "prediction_value = tf.argmax(output, axis=1).numpy()[0]\n",
    "prediction_value"
   ]
  },
  {
   "cell_type": "code",
   "execution_count": 28,
   "metadata": {
    "colab": {
     "base_uri": "https://localhost:8080/"
    },
    "executionInfo": {
     "elapsed": 9,
     "status": "ok",
     "timestamp": 1719322707002,
     "user": {
      "displayName": "Mohammed Imran",
      "userId": "13573663846275111308"
     },
     "user_tz": -330
    },
    "id": "zjYjI5cuId-6",
    "outputId": "e0db4971-f007-4a97-c96c-02ab6f0e0c88"
   },
   "outputs": [
    {
     "data": {
      "text/plain": [
       "labels         encoded_labels\n",
       "business       0                 510\n",
       "entertainment  1                 386\n",
       "politics       2                 417\n",
       "sport          3                 511\n",
       "tech           4                 401\n",
       "dtype: int64"
      ]
     },
     "execution_count": 28,
     "metadata": {},
     "output_type": "execute_result"
    }
   ],
   "source": [
    "df.groupby(['labels', 'encoded_labels']).size()"
   ]
  }
 ],
 "metadata": {
  "accelerator": "GPU",
  "colab": {
   "authorship_tag": "ABX9TyMAX2Z82whfFN1GPVZwC0w0",
   "gpuType": "T4",
   "provenance": []
  },
  "kernelspec": {
   "display_name": "Python 3 (ipykernel)",
   "language": "python",
   "name": "python3"
  },
  "language_info": {
   "codemirror_mode": {
    "name": "ipython",
    "version": 3
   },
   "file_extension": ".py",
   "mimetype": "text/x-python",
   "name": "python",
   "nbconvert_exporter": "python",
   "pygments_lexer": "ipython3",
   "version": "3.11.5"
  }
 },
 "nbformat": 4,
 "nbformat_minor": 4
}
